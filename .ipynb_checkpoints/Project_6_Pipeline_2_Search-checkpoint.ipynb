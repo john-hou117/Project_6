{
 "cells": [
  {
   "cell_type": "markdown",
   "metadata": {},
   "source": [
    "### Pipeline 2 - search"
   ]
  },
  {
   "cell_type": "code",
   "execution_count": 1,
   "metadata": {
    "collapsed": false
   },
   "outputs": [],
   "source": [
    "import os\n",
    "os.chdir('../')"
   ]
  },
  {
   "cell_type": "code",
   "execution_count": 2,
   "metadata": {
    "collapsed": true
   },
   "outputs": [],
   "source": [
    "import pandas as pd"
   ]
  },
  {
   "cell_type": "code",
   "execution_count": 3,
   "metadata": {
    "collapsed": false
   },
   "outputs": [],
   "source": [
    "import lib.database_module as dm\n",
    "from lib import encoding_module as enc\n",
    "import lib.wiki_module as wiki"
   ]
  },
  {
   "cell_type": "markdown",
   "metadata": {},
   "source": [
    "### Parse: Encode search as document vector"
   ]
  },
  {
   "cell_type": "code",
   "execution_count": 4,
   "metadata": {
    "collapsed": false
   },
   "outputs": [],
   "source": [
    "# our transformer will come from this pickle\n",
    "from sklearn.externals import joblib\n",
    "transformer = joblib.load('data/vectorizer.pkl')"
   ]
  },
  {
   "cell_type": "code",
   "execution_count": 5,
   "metadata": {
    "collapsed": false
   },
   "outputs": [],
   "source": [
    "# search term will be 'corvette'\n",
    "search_term_document_vector = enc.get_searchterm_vector(transformer, 'corvette')"
   ]
  },
  {
   "cell_type": "code",
   "execution_count": 8,
   "metadata": {
    "collapsed": false
   },
   "outputs": [
    {
     "data": {
      "text/plain": [
       "array([[  2.55546930e-02,  -1.34660137e-02,   1.20314309e-03,\n",
       "          6.33055554e-05,   2.80353981e-03,  -4.24428246e-04,\n",
       "          7.62486237e-04,   4.30924644e-03,  -1.38994415e-03,\n",
       "         -1.24656545e-02,   1.68548878e-03,   3.54784132e-04,\n",
       "          1.61818561e-03,  -3.13810516e-03,  -3.38471621e-02,\n",
       "          1.38734374e-02,   1.56945002e-02,  -2.07773646e-02,\n",
       "         -1.59068552e-02,  -6.51045051e-03,   3.11099606e-03,\n",
       "         -3.69780723e-03,   1.05792774e-02,  -4.20017555e-04,\n",
       "         -5.11306752e-02,   2.24581361e-02,  -2.57011523e-02,\n",
       "         -7.98875334e-05,   1.19648852e-02,  -8.81497920e-03,\n",
       "         -1.31379273e-02,  -1.79805479e-02,   1.20017991e-03,\n",
       "          9.91852576e-03,   1.63893769e-03,   3.59213783e-03,\n",
       "         -2.21954752e-02,   7.92397248e-03,  -1.28308386e-02,\n",
       "         -1.49624702e-03,  -2.37494943e-02,   1.47708113e-02,\n",
       "          1.55827902e-02,   1.63395414e-02,  -2.07372421e-02,\n",
       "         -4.35050592e-03,   2.03832640e-02,  -6.78920883e-03,\n",
       "         -7.90490209e-02,  -3.52632343e-02,   3.13721218e-02,\n",
       "         -6.74386744e-02,   1.44530558e-02,  -5.76864339e-02,\n",
       "         -4.62208227e-02,  -3.76740732e-02,   7.23672494e-02,\n",
       "         -4.17680439e-02,   9.05503856e-02,   1.15895780e-02,\n",
       "          1.05893551e-01,  -7.29259793e-03,  -3.08999779e-02,\n",
       "         -3.34676425e-02,   7.71591820e-02,  -1.65098283e-03,\n",
       "          2.39236251e-02,   5.75363216e-03,   6.09065147e-02,\n",
       "         -3.45429374e-02,   1.56329035e-01,  -9.29785384e-02,\n",
       "          5.13546921e-03,  -2.06044066e-02,   1.69370326e-02,\n",
       "          4.54263583e-02,   8.28314182e-02,  -1.56548149e-01,\n",
       "         -1.37512587e-01,  -3.72409399e-03,   5.31055220e-02,\n",
       "         -2.87106077e-02,  -7.42319139e-02,   2.29965742e-02,\n",
       "          5.85350516e-02,  -6.05021082e-02,   2.71991234e-02,\n",
       "         -1.24929108e-02,  -4.95607907e-02,   1.05985597e-01,\n",
       "         -2.62991745e-02,  -6.11652568e-02,  -1.28752940e-02,\n",
       "          3.55585273e-02,   3.73168445e-02,  -7.45626464e-02,\n",
       "         -2.05042342e-02,   1.19638292e-02,  -9.74495010e-04,\n",
       "          1.16073270e-02,   2.66097940e-02,  -7.84810690e-02,\n",
       "         -4.84963327e-02,  -7.01822003e-02,   3.57194844e-04,\n",
       "          4.01760326e-02,  -1.58828815e-02,   7.34547804e-02,\n",
       "          9.70440256e-02,   7.58788669e-02,   6.05118549e-03,\n",
       "          6.76360600e-02,  -4.37625685e-02,  -8.27612661e-02,\n",
       "         -8.71353540e-02,   1.34058380e-02,   5.13589098e-02,\n",
       "         -6.98487733e-03,   7.47550969e-03,  -2.09427391e-02,\n",
       "          6.54386870e-02,  -1.32948711e-01,  -2.09894816e-02,\n",
       "         -9.76301811e-03,   1.41052579e-01,  -5.00032807e-02,\n",
       "         -6.61857460e-02,   1.10093352e-02,  -1.15603517e-03,\n",
       "         -4.48540466e-02,   2.65731917e-02,   2.50612745e-02,\n",
       "         -6.02971286e-02,   3.53240775e-02,  -3.80631415e-02,\n",
       "         -2.88649031e-02,   5.71832925e-02,   1.86868394e-02,\n",
       "         -8.35502603e-04,   1.77703356e-02,   3.82112862e-03,\n",
       "          3.45817220e-02,  -1.29391861e-02,  -2.60268689e-03,\n",
       "         -7.03367984e-02,  -4.86586792e-02,   2.96831963e-02,\n",
       "         -1.20823767e-02,  -2.05986565e-02,  -2.11832611e-02,\n",
       "          1.07758332e-02,   1.41280215e-03,  -1.02810097e-02,\n",
       "         -8.72720053e-04,   4.30191702e-02,   2.94292800e-02,\n",
       "         -9.24951878e-02,   1.29968373e-02,  -5.44175110e-02,\n",
       "         -2.15489650e-02,  -2.19387346e-02,  -4.91581541e-02,\n",
       "         -8.61378264e-03,  -4.54365519e-03,  -7.99300827e-03,\n",
       "          5.69455277e-03,  -1.90215065e-02,  -1.54133431e-02,\n",
       "         -1.61145098e-03,  -3.72755742e-02,  -1.01280338e-02,\n",
       "          3.91810980e-02,   1.96819020e-04,   2.42243027e-02,\n",
       "         -3.89034083e-02,   9.19523871e-03,  -6.03823129e-03,\n",
       "         -3.03108181e-02,   1.00886103e-02,   1.07096055e-03,\n",
       "          1.07705630e-02,  -5.68635710e-02,   2.38651293e-02,\n",
       "          6.36468685e-03,   2.13911754e-02,  -2.16358572e-02,\n",
       "          1.13553466e-02,   3.13449655e-02,  -2.71277166e-02,\n",
       "          2.88557840e-02,  -3.19905873e-02,  -9.09204613e-04,\n",
       "          2.15521127e-02,   2.17014787e-02,  -6.30052741e-03,\n",
       "         -1.21442505e-02,   4.37703997e-02,  -9.86583584e-03,\n",
       "         -5.50854789e-03,   2.79293281e-02,   3.02273637e-02,\n",
       "         -2.79989020e-02,  -1.88203804e-02,  -1.04878203e-02,\n",
       "         -1.17204793e-02,  -1.73421449e-02,  -1.41997459e-02,\n",
       "         -1.13624003e-02,  -2.98130967e-03,  -1.89125916e-03,\n",
       "          1.58747282e-02,  -2.83908711e-02,   1.45343099e-02,\n",
       "          1.69522395e-02,  -9.80547120e-03,  -1.27072965e-02,\n",
       "         -1.31554360e-02,  -3.15990095e-02,   2.79393197e-02,\n",
       "         -3.63640584e-03,  -3.66261128e-03,   1.98209801e-02,\n",
       "         -1.62929824e-02,  -2.22163714e-02,   1.02132966e-02,\n",
       "          1.28928083e-02,   1.26563434e-02,  -1.13437729e-02,\n",
       "          6.16937490e-02,   1.57110273e-02,  -4.55105967e-02,\n",
       "         -2.63690365e-02,  -1.59958609e-02,   5.30942477e-03,\n",
       "          6.11999043e-03,  -3.41394810e-02,   1.24580969e-02,\n",
       "          2.15612203e-02,   1.14207110e-02,   6.37514393e-03,\n",
       "          5.83014710e-04,  -7.06447873e-03,  -1.49834608e-02,\n",
       "         -1.57777727e-02,  -1.89150898e-02,   2.25948633e-02,\n",
       "         -2.48561673e-03,   3.56237358e-02,   2.12900675e-02,\n",
       "         -2.41759097e-02,   5.18368531e-03,   2.26744508e-03,\n",
       "         -8.74080488e-04,   1.62133177e-03,   3.49865235e-02,\n",
       "          1.47340153e-02,  -1.96074096e-02,   1.93958487e-03,\n",
       "         -1.13255754e-02,   1.49101564e-02,   1.41762514e-02,\n",
       "         -6.16127704e-03,   1.54803519e-03,   9.25660405e-03,\n",
       "          4.96191315e-03,  -8.93835487e-03,   7.00897400e-03,\n",
       "          3.09683453e-03,   1.91764950e-02,  -1.55503801e-02,\n",
       "         -9.34243630e-03,  -7.92823321e-03,  -6.12996919e-04,\n",
       "         -4.47624794e-03,  -1.08788529e-02,  -1.31509550e-02,\n",
       "         -1.03200931e-02,   7.11222690e-03,   5.99667696e-03,\n",
       "          3.14158989e-02,  -9.56061535e-03,   1.43095376e-02,\n",
       "         -1.13404204e-03,  -1.14234964e-02,  -1.21111838e-02,\n",
       "          1.03311211e-02,   5.58034204e-03,   5.59747392e-03,\n",
       "         -1.91374394e-02,  -1.60825091e-02,   7.73722486e-03,\n",
       "          1.01073707e-02,   5.53274803e-03,  -2.92041011e-03,\n",
       "         -4.16149873e-03,  -1.56103808e-02,  -2.05598458e-02,\n",
       "         -2.52864723e-02,  -1.55284669e-02,  -1.82683002e-02,\n",
       "         -4.09343054e-03,  -1.80001039e-02,  -1.15130055e-02,\n",
       "         -4.13806095e-04,   1.43349422e-03,  -5.14517977e-03,\n",
       "         -5.09407605e-03,   1.56738339e-02,   1.79368839e-03,\n",
       "          8.55343520e-03,   2.15660587e-02,   7.18302423e-03,\n",
       "         -8.12063572e-03,   2.06308298e-03,   1.94002506e-02,\n",
       "         -1.29625311e-02,   8.18641959e-03,   1.63854799e-02,\n",
       "         -4.39607939e-03,   4.29191786e-03,   2.57939140e-04,\n",
       "          9.38714574e-03,   2.29811584e-03,  -1.00213939e-02,\n",
       "         -2.96752813e-02,   5.63859210e-03,  -4.65036158e-03,\n",
       "         -9.94747842e-03,  -9.63003613e-03,  -5.73896308e-03,\n",
       "          1.27085091e-02,  -9.48644179e-03,  -3.21573109e-03,\n",
       "         -1.47399645e-02,   2.14655881e-03,   1.76768422e-02,\n",
       "         -1.72335756e-03,  -1.99598025e-02,  -6.03591112e-04,\n",
       "         -2.65034478e-03,   5.26939671e-03,  -2.56432286e-03,\n",
       "          1.16469559e-02,  -1.20735520e-03,  -1.30314893e-02,\n",
       "          8.60472627e-03,   7.35823364e-03,   3.93390666e-02,\n",
       "          4.15526615e-03,  -7.68639478e-03,  -1.21645509e-02,\n",
       "         -1.50900500e-02,  -1.94182993e-02,   9.88169089e-04,\n",
       "          1.48532691e-02,   1.25807556e-02,  -3.08953135e-02,\n",
       "          8.81642601e-03,   6.39767830e-03,  -4.48824917e-03,\n",
       "         -1.62546076e-02,   1.04850815e-04,  -6.84500711e-03,\n",
       "          7.75424747e-03,   5.32316716e-03,   1.65569201e-02,\n",
       "         -1.15593604e-02,  -6.75615599e-03,  -5.81442856e-03,\n",
       "          1.35294234e-02,   2.03334111e-02,   1.87493411e-03,\n",
       "         -2.29778492e-02,   2.73909096e-03,  -7.94598918e-03,\n",
       "         -1.10512866e-02,  -2.64765467e-03,   3.37042283e-02,\n",
       "          2.92109215e-03,  -7.52411754e-03,  -8.79853599e-04,\n",
       "          4.06675421e-03,   6.14922591e-03,  -1.39640685e-02,\n",
       "         -1.37751545e-03,   4.40435875e-03,   3.49499099e-03,\n",
       "         -8.11659510e-04,   1.34453903e-02,   6.81739351e-03,\n",
       "         -1.43143213e-02,   9.03136561e-03,   1.54564905e-02,\n",
       "         -5.56601202e-03,   2.57864320e-02,  -1.24338716e-02,\n",
       "          6.67670256e-03,   5.51374481e-03,   3.53661918e-03,\n",
       "          1.43555254e-03,   4.96788361e-03,   1.32110788e-02,\n",
       "         -1.90513376e-03,  -1.07451075e-02,  -3.10693644e-03,\n",
       "         -4.29289829e-03,  -1.24582987e-02,   2.87836570e-02,\n",
       "          5.21877551e-04,   2.57362709e-02,  -1.29416209e-02,\n",
       "          4.22920486e-03,  -6.40825189e-03,   1.86019741e-02,\n",
       "          2.68894286e-03,   1.17522484e-02,   3.40165180e-05,\n",
       "         -5.98675598e-03,  -2.37146761e-02,  -1.63683665e-02,\n",
       "          4.42010102e-03,   1.56133825e-03,   7.67352058e-03,\n",
       "          1.94118109e-02,  -1.87731116e-02,   7.90625798e-03,\n",
       "          1.67768391e-02,   2.10431422e-02,  -4.00510542e-03,\n",
       "         -1.03736628e-02,  -1.11927995e-02,  -3.48829109e-03,\n",
       "         -3.52595712e-03,   1.04421183e-02,  -1.06494749e-02,\n",
       "         -2.52727607e-02,   2.30116500e-02,  -1.81107155e-02,\n",
       "         -2.60624698e-03,  -4.84496341e-03,   6.90966897e-03,\n",
       "         -1.30465042e-02,  -5.32491551e-04,   9.29041386e-03,\n",
       "          2.80507769e-03,   2.92478241e-03,  -1.75860693e-02,\n",
       "          8.38140601e-03,  -1.64971475e-03,   1.31748318e-02,\n",
       "          2.49325695e-03,   2.35527376e-02,   8.81434930e-03,\n",
       "         -2.18518842e-03,  -1.37632781e-02,  -1.17323143e-03,\n",
       "          9.64500880e-03,  -4.02994527e-03,  -2.29565009e-03,\n",
       "          1.04967648e-02,  -8.24636321e-03,   1.03178102e-02,\n",
       "         -1.32471628e-02,  -4.34062622e-03,   7.62582248e-03,\n",
       "          7.85744003e-03,  -9.56883770e-04,   4.57995995e-03,\n",
       "          6.12797835e-03,  -1.23395502e-02,  -1.40164184e-02,\n",
       "          1.28202185e-02,  -2.37270174e-03,  -1.52631878e-02,\n",
       "         -6.17490611e-03,   7.98117461e-04,   3.07909524e-03,\n",
       "          1.09491747e-02,  -1.04201303e-02,  -4.65115433e-03,\n",
       "          1.03947283e-02,  -1.66888609e-02,  -6.61887144e-03,\n",
       "          2.25485379e-03,  -1.04234559e-02,  -1.00648581e-02,\n",
       "         -7.28966065e-03,  -4.27961265e-03,  -1.73042425e-02,\n",
       "         -5.37319873e-03,   2.24169598e-03,   3.98286840e-03,\n",
       "         -8.90816659e-03,  -8.89223237e-04,  -1.22945746e-02,\n",
       "          1.41152563e-02,   4.65762639e-03,  -1.76292608e-02,\n",
       "          3.46667322e-03,   6.98857612e-03]])"
      ]
     },
     "execution_count": 8,
     "metadata": {},
     "output_type": "execute_result"
    }
   ],
   "source": [
    "search_term_document_vector['corvette']"
   ]
  },
  {
   "cell_type": "markdown",
   "metadata": {},
   "source": [
    "### Mine: Select document vectors for all pages from database"
   ]
  },
  {
   "cell_type": "code",
   "execution_count": 11,
   "metadata": {
    "collapsed": false
   },
   "outputs": [
    {
     "name": "stdout",
     "output_type": "stream",
     "text": [
      "Connected to server joshuacook.me.\n"
     ]
    }
   ],
   "source": [
    "page_vectors = dm.select_all_page_vectors()"
   ]
  },
  {
   "cell_type": "code",
   "execution_count": 19,
   "metadata": {
    "collapsed": true
   },
   "outputs": [],
   "source": [
    "indices = [tup[0] for tup in page_vectors]\n",
    "vectors = [tup[1] for tup in page_vectors]"
   ]
  },
  {
   "cell_type": "code",
   "execution_count": 20,
   "metadata": {
    "collapsed": false
   },
   "outputs": [],
   "source": [
    "page_vectors_df = pd.DataFrame(vectors, index=indices)"
   ]
  },
  {
   "cell_type": "code",
   "execution_count": 21,
   "metadata": {
    "collapsed": false
   },
   "outputs": [
    {
     "data": {
      "text/html": [
       "<div>\n",
       "<table border=\"1\" class=\"dataframe\">\n",
       "  <thead>\n",
       "    <tr style=\"text-align: right;\">\n",
       "      <th></th>\n",
       "      <th>0</th>\n",
       "      <th>1</th>\n",
       "      <th>2</th>\n",
       "      <th>3</th>\n",
       "      <th>4</th>\n",
       "      <th>5</th>\n",
       "      <th>6</th>\n",
       "      <th>7</th>\n",
       "      <th>8</th>\n",
       "      <th>9</th>\n",
       "      <th>...</th>\n",
       "      <th>490</th>\n",
       "      <th>491</th>\n",
       "      <th>492</th>\n",
       "      <th>493</th>\n",
       "      <th>494</th>\n",
       "      <th>495</th>\n",
       "      <th>496</th>\n",
       "      <th>497</th>\n",
       "      <th>498</th>\n",
       "      <th>499</th>\n",
       "    </tr>\n",
       "  </thead>\n",
       "  <tbody>\n",
       "    <tr>\n",
       "      <th>344083</th>\n",
       "      <td>0.275585</td>\n",
       "      <td>-0.101265</td>\n",
       "      <td>0.007115</td>\n",
       "      <td>-0.001592</td>\n",
       "      <td>0.006335</td>\n",
       "      <td>0.007680</td>\n",
       "      <td>-0.001214</td>\n",
       "      <td>-0.004784</td>\n",
       "      <td>0.002477</td>\n",
       "      <td>-0.007817</td>\n",
       "      <td>...</td>\n",
       "      <td>0.032629</td>\n",
       "      <td>0.004709</td>\n",
       "      <td>-0.005903</td>\n",
       "      <td>0.008758</td>\n",
       "      <td>0.014177</td>\n",
       "      <td>0.010986</td>\n",
       "      <td>0.000801</td>\n",
       "      <td>-0.012796</td>\n",
       "      <td>-0.005982</td>\n",
       "      <td>-0.003761</td>\n",
       "    </tr>\n",
       "    <tr>\n",
       "      <th>45260809</th>\n",
       "      <td>0.187593</td>\n",
       "      <td>-0.053228</td>\n",
       "      <td>0.016399</td>\n",
       "      <td>0.002273</td>\n",
       "      <td>-0.007791</td>\n",
       "      <td>0.005352</td>\n",
       "      <td>-0.005889</td>\n",
       "      <td>0.000993</td>\n",
       "      <td>0.014205</td>\n",
       "      <td>-0.000349</td>\n",
       "      <td>...</td>\n",
       "      <td>0.032435</td>\n",
       "      <td>-0.044570</td>\n",
       "      <td>-0.007897</td>\n",
       "      <td>0.013027</td>\n",
       "      <td>0.038891</td>\n",
       "      <td>0.004053</td>\n",
       "      <td>0.028509</td>\n",
       "      <td>-0.046108</td>\n",
       "      <td>-0.014064</td>\n",
       "      <td>-0.002065</td>\n",
       "    </tr>\n",
       "    <tr>\n",
       "      <th>4341789</th>\n",
       "      <td>0.093037</td>\n",
       "      <td>-0.038540</td>\n",
       "      <td>-0.000791</td>\n",
       "      <td>0.000941</td>\n",
       "      <td>0.004827</td>\n",
       "      <td>0.003893</td>\n",
       "      <td>0.003150</td>\n",
       "      <td>-0.005049</td>\n",
       "      <td>-0.001734</td>\n",
       "      <td>0.004833</td>\n",
       "      <td>...</td>\n",
       "      <td>0.009803</td>\n",
       "      <td>0.056048</td>\n",
       "      <td>-0.022399</td>\n",
       "      <td>0.029120</td>\n",
       "      <td>-0.022184</td>\n",
       "      <td>-0.020890</td>\n",
       "      <td>0.063562</td>\n",
       "      <td>-0.022862</td>\n",
       "      <td>-0.010020</td>\n",
       "      <td>0.014199</td>\n",
       "    </tr>\n",
       "    <tr>\n",
       "      <th>2514975</th>\n",
       "      <td>0.124438</td>\n",
       "      <td>0.166967</td>\n",
       "      <td>-0.215827</td>\n",
       "      <td>-0.247178</td>\n",
       "      <td>0.057838</td>\n",
       "      <td>0.006808</td>\n",
       "      <td>-0.010344</td>\n",
       "      <td>-0.057885</td>\n",
       "      <td>-0.280471</td>\n",
       "      <td>-0.048702</td>\n",
       "      <td>...</td>\n",
       "      <td>-0.024003</td>\n",
       "      <td>0.018549</td>\n",
       "      <td>0.025220</td>\n",
       "      <td>0.016304</td>\n",
       "      <td>-0.009877</td>\n",
       "      <td>-0.017131</td>\n",
       "      <td>-0.001509</td>\n",
       "      <td>-0.017671</td>\n",
       "      <td>-0.001048</td>\n",
       "      <td>-0.003444</td>\n",
       "    </tr>\n",
       "    <tr>\n",
       "      <th>35135520</th>\n",
       "      <td>0.191219</td>\n",
       "      <td>-0.031979</td>\n",
       "      <td>0.011209</td>\n",
       "      <td>-0.000910</td>\n",
       "      <td>-0.005100</td>\n",
       "      <td>0.015066</td>\n",
       "      <td>0.005340</td>\n",
       "      <td>0.012332</td>\n",
       "      <td>0.027897</td>\n",
       "      <td>0.030451</td>\n",
       "      <td>...</td>\n",
       "      <td>0.009617</td>\n",
       "      <td>-0.050009</td>\n",
       "      <td>-0.000679</td>\n",
       "      <td>-0.003436</td>\n",
       "      <td>-0.046443</td>\n",
       "      <td>-0.040477</td>\n",
       "      <td>-0.016854</td>\n",
       "      <td>0.018762</td>\n",
       "      <td>0.008802</td>\n",
       "      <td>-0.048635</td>\n",
       "    </tr>\n",
       "  </tbody>\n",
       "</table>\n",
       "<p>5 rows × 500 columns</p>\n",
       "</div>"
      ],
      "text/plain": [
       "               0         1         2         3         4         5    \\\n",
       "344083    0.275585 -0.101265  0.007115 -0.001592  0.006335  0.007680   \n",
       "45260809  0.187593 -0.053228  0.016399  0.002273 -0.007791  0.005352   \n",
       "4341789   0.093037 -0.038540 -0.000791  0.000941  0.004827  0.003893   \n",
       "2514975   0.124438  0.166967 -0.215827 -0.247178  0.057838  0.006808   \n",
       "35135520  0.191219 -0.031979  0.011209 -0.000910 -0.005100  0.015066   \n",
       "\n",
       "               6         7         8         9      ...          490  \\\n",
       "344083   -0.001214 -0.004784  0.002477 -0.007817    ...     0.032629   \n",
       "45260809 -0.005889  0.000993  0.014205 -0.000349    ...     0.032435   \n",
       "4341789   0.003150 -0.005049 -0.001734  0.004833    ...     0.009803   \n",
       "2514975  -0.010344 -0.057885 -0.280471 -0.048702    ...    -0.024003   \n",
       "35135520  0.005340  0.012332  0.027897  0.030451    ...     0.009617   \n",
       "\n",
       "               491       492       493       494       495       496  \\\n",
       "344083    0.004709 -0.005903  0.008758  0.014177  0.010986  0.000801   \n",
       "45260809 -0.044570 -0.007897  0.013027  0.038891  0.004053  0.028509   \n",
       "4341789   0.056048 -0.022399  0.029120 -0.022184 -0.020890  0.063562   \n",
       "2514975   0.018549  0.025220  0.016304 -0.009877 -0.017131 -0.001509   \n",
       "35135520 -0.050009 -0.000679 -0.003436 -0.046443 -0.040477 -0.016854   \n",
       "\n",
       "               497       498       499  \n",
       "344083   -0.012796 -0.005982 -0.003761  \n",
       "45260809 -0.046108 -0.014064 -0.002065  \n",
       "4341789  -0.022862 -0.010020  0.014199  \n",
       "2514975  -0.017671 -0.001048 -0.003444  \n",
       "35135520  0.018762  0.008802 -0.048635  \n",
       "\n",
       "[5 rows x 500 columns]"
      ]
     },
     "execution_count": 21,
     "metadata": {},
     "output_type": "execute_result"
    }
   ],
   "source": [
    "page_vectors_df.head()"
   ]
  },
  {
   "cell_type": "markdown",
   "metadata": {},
   "source": [
    "### Model: Find five most similar documents based on document vectors"
   ]
  },
  {
   "cell_type": "code",
   "execution_count": 22,
   "metadata": {
    "collapsed": true
   },
   "outputs": [],
   "source": [
    "# NearestNeighbors will give you the 5 (by default) nearest neighbors\n",
    "from sklearn.neighbors import NearestNeighbors"
   ]
  },
  {
   "cell_type": "code",
   "execution_count": 23,
   "metadata": {
    "collapsed": false
   },
   "outputs": [
    {
     "data": {
      "text/plain": [
       "NearestNeighbors(algorithm='auto', leaf_size=30, metric='minkowski',\n",
       "         metric_params=None, n_jobs=1, n_neighbors=5, p=2, radius=1.0)"
      ]
     },
     "execution_count": 23,
     "metadata": {},
     "output_type": "execute_result"
    }
   ],
   "source": [
    "this_NN = NearestNeighbors()\n",
    "this_NN.fit(page_vectors_df)"
   ]
  },
  {
   "cell_type": "code",
   "execution_count": 43,
   "metadata": {
    "collapsed": false,
    "scrolled": true
   },
   "outputs": [
    {
     "data": {
      "text/plain": [
       "(array([[ 0.65739035,  0.65739035,  0.65739035,  0.65739035,  0.65739035]]),\n",
       " array([[1247, 2185, 1869, 2026, 1259]]))"
      ]
     },
     "execution_count": 43,
     "metadata": {},
     "output_type": "execute_result"
    }
   ],
   "source": [
    "Nearest_Neighbors_result = this_NN.kneighbors(search_term_document_vector['corvette'])\n",
    "Nearest_Neighbors_result"
   ]
  },
  {
   "cell_type": "code",
   "execution_count": 44,
   "metadata": {
    "collapsed": false
   },
   "outputs": [
    {
     "data": {
      "text/plain": [
       "array([[1247, 2185, 1869, 2026, 1259]])"
      ]
     },
     "execution_count": 44,
     "metadata": {},
     "output_type": "execute_result"
    }
   ],
   "source": [
    "# This will give us an array of the 5 most similar documents, by index number. Recall\n",
    "# however, that our index numbers are really our page_ids\n",
    "Nearest_Neighbors_result[1]"
   ]
  },
  {
   "cell_type": "markdown",
   "metadata": {},
   "source": [
    "### Mine: Retrieve text for the five most similar documents"
   ]
  },
  {
   "cell_type": "code",
   "execution_count": 100,
   "metadata": {
    "collapsed": true
   },
   "outputs": [],
   "source": [
    "# Make a table to match the 1) array indices returned from nearest neighbors to our 2) page_id\n",
    "# indexed DataFrame (page_vectors_df)\n",
    "lookup_table = pd.DataFrame(page_vectors_df.index, columns=['page_id'])"
   ]
  },
  {
   "cell_type": "code",
   "execution_count": 101,
   "metadata": {
    "collapsed": false
   },
   "outputs": [
    {
     "data": {
      "text/html": [
       "<div>\n",
       "<table border=\"1\" class=\"dataframe\">\n",
       "  <thead>\n",
       "    <tr style=\"text-align: right;\">\n",
       "      <th></th>\n",
       "      <th>page_id</th>\n",
       "    </tr>\n",
       "  </thead>\n",
       "  <tbody>\n",
       "    <tr>\n",
       "      <th>0</th>\n",
       "      <td>344083</td>\n",
       "    </tr>\n",
       "    <tr>\n",
       "      <th>1</th>\n",
       "      <td>45260809</td>\n",
       "    </tr>\n",
       "    <tr>\n",
       "      <th>2</th>\n",
       "      <td>4341789</td>\n",
       "    </tr>\n",
       "    <tr>\n",
       "      <th>3</th>\n",
       "      <td>2514975</td>\n",
       "    </tr>\n",
       "    <tr>\n",
       "      <th>4</th>\n",
       "      <td>35135520</td>\n",
       "    </tr>\n",
       "  </tbody>\n",
       "</table>\n",
       "</div>"
      ],
      "text/plain": [
       "    page_id\n",
       "0    344083\n",
       "1  45260809\n",
       "2   4341789\n",
       "3   2514975\n",
       "4  35135520"
      ]
     },
     "execution_count": 101,
     "metadata": {},
     "output_type": "execute_result"
    }
   ],
   "source": [
    "lookup_table.head()"
   ]
  },
  {
   "cell_type": "code",
   "execution_count": 134,
   "metadata": {
    "collapsed": false
   },
   "outputs": [
    {
     "data": {
      "text/plain": [
       "[[1247, 2185, 1869, 2026, 1259]]"
      ]
     },
     "execution_count": 134,
     "metadata": {},
     "output_type": "execute_result"
    }
   ],
   "source": [
    "nn_indices = Nearest_Neighbors_result[1].tolist()\n",
    "nn_indices"
   ]
  },
  {
   "cell_type": "code",
   "execution_count": 137,
   "metadata": {
    "collapsed": false
   },
   "outputs": [],
   "source": [
    "vmask = [True if i in nn_indices[0] else False for i in lookup_table.index]"
   ]
  },
  {
   "cell_type": "code",
   "execution_count": 141,
   "metadata": {
    "collapsed": false
   },
   "outputs": [
    {
     "data": {
      "text/plain": [
       "1247     1702260\n",
       "1259    32692637\n",
       "1869    22928159\n",
       "2026     5791134\n",
       "2185    52108912\n",
       "Name: page_id, dtype: int64"
      ]
     },
     "execution_count": 141,
     "metadata": {},
     "output_type": "execute_result"
    }
   ],
   "source": [
    "Nearest_Neighbors_pages = lookup_table['page_id'][vmask]\n",
    "Nearest_Neighbors_pages"
   ]
  },
  {
   "cell_type": "code",
   "execution_count": 154,
   "metadata": {
    "collapsed": false
   },
   "outputs": [
    {
     "name": "stdout",
     "output_type": "stream",
     "text": [
      "\n",
      "Attempt # 1 - page_id:  1702260\n",
      "\n",
      "Attempt # 2 - page_id:  32692637\n",
      "\n",
      "Attempt # 3 - page_id:  22928159\n",
      "\n",
      "Attempt # 4 - page_id:  5791134\n",
      "\n",
      "Attempt # 5 - page_id:  52108912\n"
     ]
    }
   ],
   "source": [
    "counter = 0\n",
    "for page_id in Nearest_Neighbors_pages:\n",
    "    wiki_response = wiki.query_page(str(page_id))\n",
    "    print wiki_response['text']\n",
    "    counter += 1 # for test purposes only, just to make sure I tried 5 times to get text\n",
    "    print \"Attempt #\", counter, \"-\", \"page_id: \", page_id"
   ]
  },
  {
   "cell_type": "code",
   "execution_count": 165,
   "metadata": {
    "collapsed": false
   },
   "outputs": [
    {
     "data": {
      "text/plain": [
       "1702260"
      ]
     },
     "execution_count": 165,
     "metadata": {},
     "output_type": "execute_result"
    }
   ],
   "source": [
    "# Internal Note for myself: for future reference, instead of the lookup_table and vmask,\n",
    "# a simpler option to access the page_ids is to do:\n",
    "# page_vectors_df.index[1247] <- The Nearest_Neighbors_result[1] returned an array of index\n",
    "# positions (1247, 2185, etc.). This means that we're interested in the page_id at the\n",
    "# 1247th and 2185th index. Using the page_vectors_df, which has page_ids as it's index,\n",
    "# we can call page_vectors_df.index to get an array of all the page_ids in order, and then\n",
    "# use the 1247 to get the 1247th entry in the page_vectors_df.index, which will return a\n",
    "# page_id\n",
    "page_vectors_df.index[1247]"
   ]
  },
  {
   "cell_type": "code",
   "execution_count": null,
   "metadata": {
    "collapsed": true
   },
   "outputs": [],
   "source": []
  }
 ],
 "metadata": {
  "anaconda-cloud": {},
  "kernelspec": {
   "display_name": "Python [default]",
   "language": "python",
   "name": "python2"
  },
  "language_info": {
   "codemirror_mode": {
    "name": "ipython",
    "version": 2
   },
   "file_extension": ".py",
   "mimetype": "text/x-python",
   "name": "python",
   "nbconvert_exporter": "python",
   "pygments_lexer": "ipython2",
   "version": "2.7.12"
  }
 },
 "nbformat": 4,
 "nbformat_minor": 1
}
