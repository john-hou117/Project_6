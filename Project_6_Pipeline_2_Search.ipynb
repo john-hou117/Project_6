{
 "cells": [
  {
   "cell_type": "markdown",
   "metadata": {},
   "source": [
    "### Pipeline 2 - search"
   ]
  },
  {
   "cell_type": "code",
   "execution_count": 1,
   "metadata": {
    "collapsed": false
   },
   "outputs": [],
   "source": [
    "import os\n",
    "os.chdir('../')"
   ]
  },
  {
   "cell_type": "code",
   "execution_count": 2,
   "metadata": {
    "collapsed": true
   },
   "outputs": [],
   "source": [
    "import pandas as pd"
   ]
  },
  {
   "cell_type": "code",
   "execution_count": 3,
   "metadata": {
    "collapsed": false
   },
   "outputs": [],
   "source": [
    "import lib.database_module as dm\n",
    "from lib import encoding_module as enc\n",
    "import lib.wiki_module as wiki"
   ]
  },
  {
   "cell_type": "markdown",
   "metadata": {},
   "source": [
    "### Parse: Encode search as document vector"
   ]
  },
  {
   "cell_type": "code",
   "execution_count": 4,
   "metadata": {
    "collapsed": false
   },
   "outputs": [],
   "source": [
    "# our transformer will come from this pickle\n",
    "from sklearn.externals import joblib\n",
    "transformer = joblib.load('data/vectorizer.pkl')"
   ]
  },
  {
   "cell_type": "code",
   "execution_count": 5,
   "metadata": {
    "collapsed": false
   },
   "outputs": [],
   "source": [
    "# search term will be 'corvette'\n",
    "search_term_document_vector = enc.get_searchterm_vector(transformer, 'corvette')"
   ]
  },
  {
   "cell_type": "code",
   "execution_count": 6,
   "metadata": {
    "collapsed": false
   },
   "outputs": [
    {
     "data": {
      "text/plain": [
       "array([[  2.55546930e-02,  -1.34660137e-02,   1.20314309e-03,\n",
       "          6.33055554e-05,   2.80353981e-03,  -4.24428246e-04,\n",
       "          7.62486237e-04,   4.30924644e-03,  -1.38994415e-03,\n",
       "         -1.24656545e-02,   1.68548878e-03,   3.54784132e-04,\n",
       "          1.61818561e-03,  -3.13810516e-03,  -3.38471621e-02,\n",
       "          1.38734374e-02,   1.56945002e-02,  -2.07773646e-02,\n",
       "         -1.59068552e-02,  -6.51045051e-03,   3.11099606e-03,\n",
       "         -3.69780723e-03,   1.05792774e-02,  -4.20017555e-04,\n",
       "         -5.11306752e-02,   2.24581361e-02,  -2.57011523e-02,\n",
       "         -7.98875334e-05,   1.19648852e-02,  -8.81497920e-03,\n",
       "         -1.31379273e-02,  -1.79805479e-02,   1.20017991e-03,\n",
       "          9.91852576e-03,   1.63893769e-03,   3.59213783e-03,\n",
       "         -2.21954752e-02,   7.92397248e-03,  -1.28308386e-02,\n",
       "         -1.49624702e-03,  -2.37494943e-02,   1.47708113e-02,\n",
       "          1.55827902e-02,   1.63395414e-02,  -2.07372421e-02,\n",
       "         -4.35050592e-03,   2.03832640e-02,  -6.78920883e-03,\n",
       "         -7.90490209e-02,  -3.52632343e-02,   3.13721218e-02,\n",
       "         -6.74386744e-02,   1.44530558e-02,  -5.76864339e-02,\n",
       "         -4.62208227e-02,  -3.76740732e-02,   7.23672494e-02,\n",
       "         -4.17680439e-02,   9.05503856e-02,   1.15895780e-02,\n",
       "          1.05893551e-01,  -7.29259793e-03,  -3.08999779e-02,\n",
       "         -3.34676425e-02,   7.71591820e-02,  -1.65098283e-03,\n",
       "          2.39236251e-02,   5.75363216e-03,   6.09065147e-02,\n",
       "         -3.45429374e-02,   1.56329035e-01,  -9.29785384e-02,\n",
       "          5.13546921e-03,  -2.06044066e-02,   1.69370326e-02,\n",
       "          4.54263583e-02,   8.28314182e-02,  -1.56548149e-01,\n",
       "         -1.37512587e-01,  -3.72409399e-03,   5.31055220e-02,\n",
       "         -2.87106077e-02,  -7.42319139e-02,   2.29965742e-02,\n",
       "          5.85350516e-02,  -6.05021082e-02,   2.71991234e-02,\n",
       "         -1.24929108e-02,  -4.95607907e-02,   1.05985597e-01,\n",
       "         -2.62991745e-02,  -6.11652568e-02,  -1.28752940e-02,\n",
       "          3.55585273e-02,   3.73168445e-02,  -7.45626464e-02,\n",
       "         -2.05042342e-02,   1.19638292e-02,  -9.74495010e-04,\n",
       "          1.16073270e-02,   2.66097940e-02,  -7.84810690e-02,\n",
       "         -4.84963327e-02,  -7.01822003e-02,   3.57194844e-04,\n",
       "          4.01760326e-02,  -1.58828815e-02,   7.34547804e-02,\n",
       "          9.70440256e-02,   7.58788669e-02,   6.05118549e-03,\n",
       "          6.76360600e-02,  -4.37625685e-02,  -8.27612661e-02,\n",
       "         -8.71353540e-02,   1.34058380e-02,   5.13589098e-02,\n",
       "         -6.98487733e-03,   7.47550969e-03,  -2.09427391e-02,\n",
       "          6.54386870e-02,  -1.32948711e-01,  -2.09894816e-02,\n",
       "         -9.76301811e-03,   1.41052579e-01,  -5.00032807e-02,\n",
       "         -6.61857460e-02,   1.10093352e-02,  -1.15603517e-03,\n",
       "         -4.48540466e-02,   2.65731917e-02,   2.50612745e-02,\n",
       "         -6.02971286e-02,   3.53240775e-02,  -3.80631415e-02,\n",
       "         -2.88649031e-02,   5.71832925e-02,   1.86868394e-02,\n",
       "         -8.35502603e-04,   1.77703356e-02,   3.82112862e-03,\n",
       "          3.45817220e-02,  -1.29391861e-02,  -2.60268689e-03,\n",
       "         -7.03367984e-02,  -4.86586792e-02,   2.96831963e-02,\n",
       "         -1.20823767e-02,  -2.05986565e-02,  -2.11832611e-02,\n",
       "          1.07758332e-02,   1.41280215e-03,  -1.02810097e-02,\n",
       "         -8.72720053e-04,   4.30191702e-02,   2.94292800e-02,\n",
       "         -9.24951878e-02,   1.29968373e-02,  -5.44175110e-02,\n",
       "         -2.15489650e-02,  -2.19387346e-02,  -4.91581541e-02,\n",
       "         -8.61378264e-03,  -4.54365519e-03,  -7.99300827e-03,\n",
       "          5.69455277e-03,  -1.90215065e-02,  -1.54133431e-02,\n",
       "         -1.61145098e-03,  -3.72755742e-02,  -1.01280338e-02,\n",
       "          3.91810980e-02,   1.96819020e-04,   2.42243027e-02,\n",
       "         -3.89034083e-02,   9.19523871e-03,  -6.03823129e-03,\n",
       "         -3.03108181e-02,   1.00886103e-02,   1.07096055e-03,\n",
       "          1.07705630e-02,  -5.68635710e-02,   2.38651293e-02,\n",
       "          6.36468685e-03,   2.13911754e-02,  -2.16358572e-02,\n",
       "          1.13553466e-02,   3.13449655e-02,  -2.71277166e-02,\n",
       "          2.88557840e-02,  -3.19905873e-02,  -9.09204613e-04,\n",
       "          2.15521127e-02,   2.17014787e-02,  -6.30052741e-03,\n",
       "         -1.21442505e-02,   4.37703997e-02,  -9.86583584e-03,\n",
       "         -5.50854789e-03,   2.79293281e-02,   3.02273637e-02,\n",
       "         -2.79989020e-02,  -1.88203804e-02,  -1.04878203e-02,\n",
       "         -1.17204793e-02,  -1.73421449e-02,  -1.41997459e-02,\n",
       "         -1.13624003e-02,  -2.98130967e-03,  -1.89125916e-03,\n",
       "          1.58747282e-02,  -2.83908711e-02,   1.45343099e-02,\n",
       "          1.69522395e-02,  -9.80547120e-03,  -1.27072965e-02,\n",
       "         -1.31554360e-02,  -3.15990095e-02,   2.79393197e-02,\n",
       "         -3.63640584e-03,  -3.66261128e-03,   1.98209801e-02,\n",
       "         -1.62929824e-02,  -2.22163714e-02,   1.02132966e-02,\n",
       "          1.28928083e-02,   1.26563434e-02,  -1.13437729e-02,\n",
       "          6.16937490e-02,   1.57110273e-02,  -4.55105967e-02,\n",
       "         -2.63690365e-02,  -1.59958609e-02,   5.30942477e-03,\n",
       "          6.11999043e-03,  -3.41394810e-02,   1.24580969e-02,\n",
       "          2.15612203e-02,   1.14207110e-02,   6.37514393e-03,\n",
       "          5.83014710e-04,  -7.06447873e-03,  -1.49834608e-02,\n",
       "         -1.57777727e-02,  -1.89150898e-02,   2.25948633e-02,\n",
       "         -2.48561673e-03,   3.56237358e-02,   2.12900675e-02,\n",
       "         -2.41759097e-02,   5.18368531e-03,   2.26744508e-03,\n",
       "         -8.74080488e-04,   1.62133177e-03,   3.49865235e-02,\n",
       "          1.47340153e-02,  -1.96074096e-02,   1.93958487e-03,\n",
       "         -1.13255754e-02,   1.49101564e-02,   1.41762514e-02,\n",
       "         -6.16127704e-03,   1.54803519e-03,   9.25660405e-03,\n",
       "          4.96191315e-03,  -8.93835487e-03,   7.00897400e-03,\n",
       "          3.09683453e-03,   1.91764950e-02,  -1.55503801e-02,\n",
       "         -9.34243630e-03,  -7.92823321e-03,  -6.12996919e-04,\n",
       "         -4.47624794e-03,  -1.08788529e-02,  -1.31509550e-02,\n",
       "         -1.03200931e-02,   7.11222690e-03,   5.99667696e-03,\n",
       "          3.14158989e-02,  -9.56061535e-03,   1.43095376e-02,\n",
       "         -1.13404204e-03,  -1.14234964e-02,  -1.21111838e-02,\n",
       "          1.03311211e-02,   5.58034204e-03,   5.59747392e-03,\n",
       "         -1.91374394e-02,  -1.60825091e-02,   7.73722486e-03,\n",
       "          1.01073707e-02,   5.53274803e-03,  -2.92041011e-03,\n",
       "         -4.16149873e-03,  -1.56103808e-02,  -2.05598458e-02,\n",
       "         -2.52864723e-02,  -1.55284669e-02,  -1.82683002e-02,\n",
       "         -4.09343054e-03,  -1.80001039e-02,  -1.15130055e-02,\n",
       "         -4.13806095e-04,   1.43349422e-03,  -5.14517977e-03,\n",
       "         -5.09407605e-03,   1.56738339e-02,   1.79368839e-03,\n",
       "          8.55343520e-03,   2.15660587e-02,   7.18302423e-03,\n",
       "         -8.12063572e-03,   2.06308298e-03,   1.94002506e-02,\n",
       "         -1.29625311e-02,   8.18641959e-03,   1.63854799e-02,\n",
       "         -4.39607939e-03,   4.29191786e-03,   2.57939140e-04,\n",
       "          9.38714574e-03,   2.29811584e-03,  -1.00213939e-02,\n",
       "         -2.96752813e-02,   5.63859210e-03,  -4.65036158e-03,\n",
       "         -9.94747842e-03,  -9.63003613e-03,  -5.73896308e-03,\n",
       "          1.27085091e-02,  -9.48644179e-03,  -3.21573109e-03,\n",
       "         -1.47399645e-02,   2.14655881e-03,   1.76768422e-02,\n",
       "         -1.72335756e-03,  -1.99598025e-02,  -6.03591112e-04,\n",
       "         -2.65034478e-03,   5.26939671e-03,  -2.56432286e-03,\n",
       "          1.16469559e-02,  -1.20735520e-03,  -1.30314893e-02,\n",
       "          8.60472627e-03,   7.35823364e-03,   3.93390666e-02,\n",
       "          4.15526615e-03,  -7.68639478e-03,  -1.21645509e-02,\n",
       "         -1.50900500e-02,  -1.94182993e-02,   9.88169089e-04,\n",
       "          1.48532691e-02,   1.25807556e-02,  -3.08953135e-02,\n",
       "          8.81642601e-03,   6.39767830e-03,  -4.48824917e-03,\n",
       "         -1.62546076e-02,   1.04850815e-04,  -6.84500711e-03,\n",
       "          7.75424747e-03,   5.32316716e-03,   1.65569201e-02,\n",
       "         -1.15593604e-02,  -6.75615599e-03,  -5.81442856e-03,\n",
       "          1.35294234e-02,   2.03334111e-02,   1.87493411e-03,\n",
       "         -2.29778492e-02,   2.73909096e-03,  -7.94598918e-03,\n",
       "         -1.10512866e-02,  -2.64765467e-03,   3.37042283e-02,\n",
       "          2.92109215e-03,  -7.52411754e-03,  -8.79853599e-04,\n",
       "          4.06675421e-03,   6.14922591e-03,  -1.39640685e-02,\n",
       "         -1.37751545e-03,   4.40435875e-03,   3.49499099e-03,\n",
       "         -8.11659510e-04,   1.34453903e-02,   6.81739351e-03,\n",
       "         -1.43143213e-02,   9.03136561e-03,   1.54564905e-02,\n",
       "         -5.56601202e-03,   2.57864320e-02,  -1.24338716e-02,\n",
       "          6.67670256e-03,   5.51374481e-03,   3.53661918e-03,\n",
       "          1.43555254e-03,   4.96788361e-03,   1.32110788e-02,\n",
       "         -1.90513376e-03,  -1.07451075e-02,  -3.10693644e-03,\n",
       "         -4.29289829e-03,  -1.24582987e-02,   2.87836570e-02,\n",
       "          5.21877551e-04,   2.57362709e-02,  -1.29416209e-02,\n",
       "          4.22920486e-03,  -6.40825189e-03,   1.86019741e-02,\n",
       "          2.68894286e-03,   1.17522484e-02,   3.40165180e-05,\n",
       "         -5.98675598e-03,  -2.37146761e-02,  -1.63683665e-02,\n",
       "          4.42010102e-03,   1.56133825e-03,   7.67352058e-03,\n",
       "          1.94118109e-02,  -1.87731116e-02,   7.90625798e-03,\n",
       "          1.67768391e-02,   2.10431422e-02,  -4.00510542e-03,\n",
       "         -1.03736628e-02,  -1.11927995e-02,  -3.48829109e-03,\n",
       "         -3.52595712e-03,   1.04421183e-02,  -1.06494749e-02,\n",
       "         -2.52727607e-02,   2.30116500e-02,  -1.81107155e-02,\n",
       "         -2.60624698e-03,  -4.84496341e-03,   6.90966897e-03,\n",
       "         -1.30465042e-02,  -5.32491551e-04,   9.29041386e-03,\n",
       "          2.80507769e-03,   2.92478241e-03,  -1.75860693e-02,\n",
       "          8.38140601e-03,  -1.64971475e-03,   1.31748318e-02,\n",
       "          2.49325695e-03,   2.35527376e-02,   8.81434930e-03,\n",
       "         -2.18518842e-03,  -1.37632781e-02,  -1.17323143e-03,\n",
       "          9.64500880e-03,  -4.02994527e-03,  -2.29565009e-03,\n",
       "          1.04967648e-02,  -8.24636321e-03,   1.03178102e-02,\n",
       "         -1.32471628e-02,  -4.34062622e-03,   7.62582248e-03,\n",
       "          7.85744003e-03,  -9.56883770e-04,   4.57995995e-03,\n",
       "          6.12797835e-03,  -1.23395502e-02,  -1.40164184e-02,\n",
       "          1.28202185e-02,  -2.37270174e-03,  -1.52631878e-02,\n",
       "         -6.17490611e-03,   7.98117461e-04,   3.07909524e-03,\n",
       "          1.09491747e-02,  -1.04201303e-02,  -4.65115433e-03,\n",
       "          1.03947283e-02,  -1.66888609e-02,  -6.61887144e-03,\n",
       "          2.25485379e-03,  -1.04234559e-02,  -1.00648581e-02,\n",
       "         -7.28966065e-03,  -4.27961265e-03,  -1.73042425e-02,\n",
       "         -5.37319873e-03,   2.24169598e-03,   3.98286840e-03,\n",
       "         -8.90816659e-03,  -8.89223237e-04,  -1.22945746e-02,\n",
       "          1.41152563e-02,   4.65762639e-03,  -1.76292608e-02,\n",
       "          3.46667322e-03,   6.98857612e-03]])"
      ]
     },
     "execution_count": 6,
     "metadata": {},
     "output_type": "execute_result"
    }
   ],
   "source": [
    "search_term_document_vector['corvette']"
   ]
  },
  {
   "cell_type": "markdown",
   "metadata": {},
   "source": [
    "### Mine: Select document vectors for all pages from database"
   ]
  },
  {
   "cell_type": "code",
   "execution_count": 7,
   "metadata": {
    "collapsed": false
   },
   "outputs": [
    {
     "name": "stdout",
     "output_type": "stream",
     "text": [
      "Connected to server joshuacook.me.\n"
     ]
    }
   ],
   "source": [
    "page_vectors = dm.select_all_page_vectors()"
   ]
  },
  {
   "cell_type": "code",
   "execution_count": 8,
   "metadata": {
    "collapsed": true
   },
   "outputs": [],
   "source": [
    "indices = [tup[0] for tup in page_vectors]\n",
    "vectors = [tup[1] for tup in page_vectors]"
   ]
  },
  {
   "cell_type": "code",
   "execution_count": 9,
   "metadata": {
    "collapsed": false
   },
   "outputs": [],
   "source": [
    "page_vectors_df = pd.DataFrame(vectors, index=indices)"
   ]
  },
  {
   "cell_type": "code",
   "execution_count": 10,
   "metadata": {
    "collapsed": false
   },
   "outputs": [
    {
     "data": {
      "text/html": [
       "<div>\n",
       "<table border=\"1\" class=\"dataframe\">\n",
       "  <thead>\n",
       "    <tr style=\"text-align: right;\">\n",
       "      <th></th>\n",
       "      <th>0</th>\n",
       "      <th>1</th>\n",
       "      <th>2</th>\n",
       "      <th>3</th>\n",
       "      <th>4</th>\n",
       "      <th>5</th>\n",
       "      <th>6</th>\n",
       "      <th>7</th>\n",
       "      <th>8</th>\n",
       "      <th>9</th>\n",
       "      <th>...</th>\n",
       "      <th>490</th>\n",
       "      <th>491</th>\n",
       "      <th>492</th>\n",
       "      <th>493</th>\n",
       "      <th>494</th>\n",
       "      <th>495</th>\n",
       "      <th>496</th>\n",
       "      <th>497</th>\n",
       "      <th>498</th>\n",
       "      <th>499</th>\n",
       "    </tr>\n",
       "  </thead>\n",
       "  <tbody>\n",
       "    <tr>\n",
       "      <th>4341789</th>\n",
       "      <td>0.092992</td>\n",
       "      <td>-0.040985</td>\n",
       "      <td>0.006952</td>\n",
       "      <td>0.000243</td>\n",
       "      <td>0.001681</td>\n",
       "      <td>0.004999</td>\n",
       "      <td>0.003430</td>\n",
       "      <td>0.003523</td>\n",
       "      <td>-0.005129</td>\n",
       "      <td>-0.001911</td>\n",
       "      <td>...</td>\n",
       "      <td>-0.021003</td>\n",
       "      <td>-0.039528</td>\n",
       "      <td>0.027716</td>\n",
       "      <td>0.021033</td>\n",
       "      <td>-0.034768</td>\n",
       "      <td>-0.022294</td>\n",
       "      <td>0.031537</td>\n",
       "      <td>-0.009710</td>\n",
       "      <td>-0.010331</td>\n",
       "      <td>0.025944</td>\n",
       "    </tr>\n",
       "    <tr>\n",
       "      <th>48201744</th>\n",
       "      <td>0.021301</td>\n",
       "      <td>0.027559</td>\n",
       "      <td>-0.003917</td>\n",
       "      <td>-0.010877</td>\n",
       "      <td>0.013055</td>\n",
       "      <td>0.000934</td>\n",
       "      <td>0.000128</td>\n",
       "      <td>0.010317</td>\n",
       "      <td>0.001444</td>\n",
       "      <td>-0.009792</td>\n",
       "      <td>...</td>\n",
       "      <td>-0.055040</td>\n",
       "      <td>0.000110</td>\n",
       "      <td>0.057817</td>\n",
       "      <td>0.005156</td>\n",
       "      <td>0.058477</td>\n",
       "      <td>0.008807</td>\n",
       "      <td>0.043527</td>\n",
       "      <td>-0.011693</td>\n",
       "      <td>0.064738</td>\n",
       "      <td>0.051296</td>\n",
       "    </tr>\n",
       "    <tr>\n",
       "      <th>2514975</th>\n",
       "      <td>0.124983</td>\n",
       "      <td>0.153025</td>\n",
       "      <td>0.026264</td>\n",
       "      <td>-0.257191</td>\n",
       "      <td>-0.210183</td>\n",
       "      <td>0.074847</td>\n",
       "      <td>0.003862</td>\n",
       "      <td>-0.009666</td>\n",
       "      <td>-0.065705</td>\n",
       "      <td>-0.280972</td>\n",
       "      <td>...</td>\n",
       "      <td>-0.022703</td>\n",
       "      <td>0.015894</td>\n",
       "      <td>-0.002476</td>\n",
       "      <td>0.004992</td>\n",
       "      <td>-0.006653</td>\n",
       "      <td>-0.017394</td>\n",
       "      <td>-0.008525</td>\n",
       "      <td>0.017188</td>\n",
       "      <td>-0.001596</td>\n",
       "      <td>0.000120</td>\n",
       "    </tr>\n",
       "    <tr>\n",
       "      <th>35135520</th>\n",
       "      <td>0.191357</td>\n",
       "      <td>-0.039003</td>\n",
       "      <td>-0.006018</td>\n",
       "      <td>0.006389</td>\n",
       "      <td>-0.001106</td>\n",
       "      <td>-0.004748</td>\n",
       "      <td>0.015829</td>\n",
       "      <td>0.005612</td>\n",
       "      <td>0.011846</td>\n",
       "      <td>0.028248</td>\n",
       "      <td>...</td>\n",
       "      <td>0.000578</td>\n",
       "      <td>-0.004204</td>\n",
       "      <td>0.030916</td>\n",
       "      <td>0.010484</td>\n",
       "      <td>-0.012454</td>\n",
       "      <td>0.026050</td>\n",
       "      <td>0.038744</td>\n",
       "      <td>0.015332</td>\n",
       "      <td>-0.008053</td>\n",
       "      <td>0.009506</td>\n",
       "    </tr>\n",
       "    <tr>\n",
       "      <th>27303975</th>\n",
       "      <td>0.034292</td>\n",
       "      <td>0.039499</td>\n",
       "      <td>-0.006095</td>\n",
       "      <td>-0.015156</td>\n",
       "      <td>0.026112</td>\n",
       "      <td>-0.039749</td>\n",
       "      <td>-0.081440</td>\n",
       "      <td>-0.036546</td>\n",
       "      <td>0.005076</td>\n",
       "      <td>0.018881</td>\n",
       "      <td>...</td>\n",
       "      <td>0.030056</td>\n",
       "      <td>-0.026965</td>\n",
       "      <td>-0.002426</td>\n",
       "      <td>0.042282</td>\n",
       "      <td>0.024082</td>\n",
       "      <td>0.004498</td>\n",
       "      <td>-0.009517</td>\n",
       "      <td>-0.005315</td>\n",
       "      <td>-0.003784</td>\n",
       "      <td>-0.010202</td>\n",
       "    </tr>\n",
       "  </tbody>\n",
       "</table>\n",
       "<p>5 rows × 500 columns</p>\n",
       "</div>"
      ],
      "text/plain": [
       "               0         1         2         3         4         5    \\\n",
       "4341789   0.092992 -0.040985  0.006952  0.000243  0.001681  0.004999   \n",
       "48201744  0.021301  0.027559 -0.003917 -0.010877  0.013055  0.000934   \n",
       "2514975   0.124983  0.153025  0.026264 -0.257191 -0.210183  0.074847   \n",
       "35135520  0.191357 -0.039003 -0.006018  0.006389 -0.001106 -0.004748   \n",
       "27303975  0.034292  0.039499 -0.006095 -0.015156  0.026112 -0.039749   \n",
       "\n",
       "               6         7         8         9      ...          490  \\\n",
       "4341789   0.003430  0.003523 -0.005129 -0.001911    ...    -0.021003   \n",
       "48201744  0.000128  0.010317  0.001444 -0.009792    ...    -0.055040   \n",
       "2514975   0.003862 -0.009666 -0.065705 -0.280972    ...    -0.022703   \n",
       "35135520  0.015829  0.005612  0.011846  0.028248    ...     0.000578   \n",
       "27303975 -0.081440 -0.036546  0.005076  0.018881    ...     0.030056   \n",
       "\n",
       "               491       492       493       494       495       496  \\\n",
       "4341789  -0.039528  0.027716  0.021033 -0.034768 -0.022294  0.031537   \n",
       "48201744  0.000110  0.057817  0.005156  0.058477  0.008807  0.043527   \n",
       "2514975   0.015894 -0.002476  0.004992 -0.006653 -0.017394 -0.008525   \n",
       "35135520 -0.004204  0.030916  0.010484 -0.012454  0.026050  0.038744   \n",
       "27303975 -0.026965 -0.002426  0.042282  0.024082  0.004498 -0.009517   \n",
       "\n",
       "               497       498       499  \n",
       "4341789  -0.009710 -0.010331  0.025944  \n",
       "48201744 -0.011693  0.064738  0.051296  \n",
       "2514975   0.017188 -0.001596  0.000120  \n",
       "35135520  0.015332 -0.008053  0.009506  \n",
       "27303975 -0.005315 -0.003784 -0.010202  \n",
       "\n",
       "[5 rows x 500 columns]"
      ]
     },
     "execution_count": 10,
     "metadata": {},
     "output_type": "execute_result"
    }
   ],
   "source": [
    "page_vectors_df.head()"
   ]
  },
  {
   "cell_type": "markdown",
   "metadata": {},
   "source": [
    "### Model: Find five most similar documents based on document vectors"
   ]
  },
  {
   "cell_type": "code",
   "execution_count": 11,
   "metadata": {
    "collapsed": true
   },
   "outputs": [],
   "source": [
    "# NearestNeighbors will give you the 5 (by default) nearest neighbors\n",
    "from sklearn.neighbors import NearestNeighbors"
   ]
  },
  {
   "cell_type": "code",
   "execution_count": 12,
   "metadata": {
    "collapsed": false
   },
   "outputs": [
    {
     "data": {
      "text/plain": [
       "NearestNeighbors(algorithm='auto', leaf_size=30, metric='minkowski',\n",
       "         metric_params=None, n_jobs=1, n_neighbors=5, p=2, radius=1.0)"
      ]
     },
     "execution_count": 12,
     "metadata": {},
     "output_type": "execute_result"
    }
   ],
   "source": [
    "this_NN = NearestNeighbors()\n",
    "this_NN.fit(page_vectors_df)"
   ]
  },
  {
   "cell_type": "code",
   "execution_count": 13,
   "metadata": {
    "collapsed": false,
    "scrolled": true
   },
   "outputs": [
    {
     "data": {
      "text/plain": [
       "(array([[ 0.69334471,  0.72892273,  0.74019499,  0.7528829 ,  0.75419463]]),\n",
       " array([[1172,  483,  247,  566, 1448]]))"
      ]
     },
     "execution_count": 13,
     "metadata": {},
     "output_type": "execute_result"
    }
   ],
   "source": [
    "Nearest_Neighbors_result = this_NN.kneighbors(search_term_document_vector['corvette'])\n",
    "Nearest_Neighbors_result"
   ]
  },
  {
   "cell_type": "code",
   "execution_count": 14,
   "metadata": {
    "collapsed": false
   },
   "outputs": [
    {
     "data": {
      "text/plain": [
       "array([[1172,  483,  247,  566, 1448]])"
      ]
     },
     "execution_count": 14,
     "metadata": {},
     "output_type": "execute_result"
    }
   ],
   "source": [
    "# This will give us an array of the 5 most similar documents, by index number. Recall\n",
    "# however, that our index numbers are really our page_ids\n",
    "Nearest_Neighbors_result[1]"
   ]
  },
  {
   "cell_type": "markdown",
   "metadata": {},
   "source": [
    "### Mine: Retrieve text for the five most similar documents"
   ]
  },
  {
   "cell_type": "code",
   "execution_count": 15,
   "metadata": {
    "collapsed": true
   },
   "outputs": [],
   "source": [
    "# Make a table to match the 1) array indices returned from nearest neighbors to our 2) page_id\n",
    "# indexed DataFrame (page_vectors_df)\n",
    "lookup_table = pd.DataFrame(page_vectors_df.index, columns=['page_id'])"
   ]
  },
  {
   "cell_type": "code",
   "execution_count": 16,
   "metadata": {
    "collapsed": false
   },
   "outputs": [
    {
     "data": {
      "text/html": [
       "<div>\n",
       "<table border=\"1\" class=\"dataframe\">\n",
       "  <thead>\n",
       "    <tr style=\"text-align: right;\">\n",
       "      <th></th>\n",
       "      <th>page_id</th>\n",
       "    </tr>\n",
       "  </thead>\n",
       "  <tbody>\n",
       "    <tr>\n",
       "      <th>0</th>\n",
       "      <td>4341789</td>\n",
       "    </tr>\n",
       "    <tr>\n",
       "      <th>1</th>\n",
       "      <td>48201744</td>\n",
       "    </tr>\n",
       "    <tr>\n",
       "      <th>2</th>\n",
       "      <td>2514975</td>\n",
       "    </tr>\n",
       "    <tr>\n",
       "      <th>3</th>\n",
       "      <td>35135520</td>\n",
       "    </tr>\n",
       "    <tr>\n",
       "      <th>4</th>\n",
       "      <td>27303975</td>\n",
       "    </tr>\n",
       "  </tbody>\n",
       "</table>\n",
       "</div>"
      ],
      "text/plain": [
       "    page_id\n",
       "0   4341789\n",
       "1  48201744\n",
       "2   2514975\n",
       "3  35135520\n",
       "4  27303975"
      ]
     },
     "execution_count": 16,
     "metadata": {},
     "output_type": "execute_result"
    }
   ],
   "source": [
    "lookup_table.head()"
   ]
  },
  {
   "cell_type": "code",
   "execution_count": 17,
   "metadata": {
    "collapsed": false
   },
   "outputs": [
    {
     "data": {
      "text/plain": [
       "[[1172, 483, 247, 566, 1448]]"
      ]
     },
     "execution_count": 17,
     "metadata": {},
     "output_type": "execute_result"
    }
   ],
   "source": [
    "nn_indices = Nearest_Neighbors_result[1].tolist()\n",
    "nn_indices"
   ]
  },
  {
   "cell_type": "code",
   "execution_count": 18,
   "metadata": {
    "collapsed": false
   },
   "outputs": [],
   "source": [
    "vmask = [True if i in nn_indices[0] else False for i in lookup_table.index]"
   ]
  },
  {
   "cell_type": "code",
   "execution_count": 19,
   "metadata": {
    "collapsed": false
   },
   "outputs": [
    {
     "data": {
      "text/plain": [
       "247     18007329\n",
       "483     13846997\n",
       "566     38485157\n",
       "1172     8181732\n",
       "1448      630169\n",
       "Name: page_id, dtype: int64"
      ]
     },
     "execution_count": 19,
     "metadata": {},
     "output_type": "execute_result"
    }
   ],
   "source": [
    "Nearest_Neighbors_pages = lookup_table['page_id'][vmask]\n",
    "Nearest_Neighbors_pages"
   ]
  },
  {
   "cell_type": "code",
   "execution_count": 20,
   "metadata": {
    "collapsed": false
   },
   "outputs": [
    {
     "name": "stdout",
     "output_type": "stream",
     "text": [
      "Karate terms come almost entirely from Japanese. The following terms are not exclusive to karate. They appear during its study and practice, varying depending on style and school. Karate terms include: C Chito-ryu D Dan – Dojo G Gi – Goju-ryu - H Hajime – Heian K Karate – Kata – Kihon – Kohai – Kumite – Kyū O Osu R Rei S Senpai – Sensei – Shihan – Shotokan – Sōke W Waza Z Zanshin See also References External links\n",
      "Attempt # 1 - page_id:  18007329\n",
      "The Covin is a replica kit car of the Porsche 911 Turbo created by Tim Cook and Nick Vincent in the early 1980s. The name Covin came about from CO (Cook) and VIN (Vincent) giving us COVIN Performance Mouldings. Early models of the Covin were based on a shortened Beetle floorpan running gear but later used its own Covin chassis and VW Type 3 running gear. The company was sold in the 1990s to DAX and later moved to new owners GPC and was relocated to County Galway in Ireland where unfortunately up to now the Covin has not been produced again. The Covin came in 3 body styles all based on the Turbo model. These were, Flatnose and Coupe, both were also available in a convertible version. There is also known to be only one narrow body Covin ever made. Covin also produced a few 356 Speedster models but these are rather rare. Some Covin units even run real Porsche 911 engines. The Covin Club The Covin Owners Club is run by Darren Parker (Club Technical Adviser) & Club Secretary Michael Dykes. It is considered the best resource on the web for these vehicles. As of 2015 the Covin forum has 378 members, 24487 pots, covering 2762 topics. External links Covin website Covin Forum\n",
      "Attempt # 2 - page_id:  13846997\n",
      "The exercise dưỡng sinh or Dưỡng Sinh (compare Chinese Yang-Sheng 養生) is a form of partly indigenous breathing and yoga exercise similar to Tai Chi popularized in Vietnam by the historian and political activist Nguyễn Khắc Viện. Viện had been trained as a medical doctor in the field of womens and childrens psychotherapy. When he himself was given three years to live he turned to practice of traditional breathing exercises. However although the name \"dưỡng sinh\" was popularised by Viện in Từ sinh lý đến dưỡng sinh and other books, the idea of \"dưỡng sinh\" is well known to village people anyway as a compliment to thuốc Nam herbal medicine. References\n",
      "Attempt # 3 - page_id:  38485157\n",
      "Lithuanian Player of the Year is a football award. Winners 1965: Petras Glodenis ( Žalgiris Vilnius) 1966: Gintautas Kalėdinskas ( Žalgiris Vilnius) 1967: Stanislovas Ramelis ( Žalgiris Vilnius) 1968: Stanislovas Ramelis ( Žalgiris Vilnius) 1969: Juzefas Jurgelevičius ( Žalgiris Vilnius) 1970: Romualdas Juška ( Žalgiris Vilnius) 1971: Benjaminas Zelkevičius ( Žalgiris Vilnius) 1972: Benjaminas Zelkevičius ( Žalgiris Vilnius) 1973: Petras Glodenis ( Žalgiris Vilnius) 1974: Algirdas Žilinskas ( Žalgiris Vilnius) 1975: Vytautas Dirmeikis ( Žalgiris Vilnius) 1976: Eugenijus Riabovas ( Žalgiris Vilnius) 1977: Eugenijus Riabovas ( Žalgiris Vilnius) 1978: Eugenijus Riabovas ( Žalgiris Vilnius) 1979: Stanislovas Danisevičius ( Žalgiris Vilnius) 1980: Juzefas Jurgelevičius ( Žalgiris Vilnius) 1981: Vytautas Dirmeikis ( Žalgiris Vilnius) 1982: Sigitas Jakubauskas ( Žalgiris Vilnius) 1983: Valdas Kasparavičius ( Žalgiris Vilnius) 1984: Stanislovas Danisevičius ( Žalgiris Vilnius) 1988: Arminas Narbekovas ( Žalgiris Vilnius) 1989: Valdemaras Martinkėnas ( Žalgiris Vilnius) 1990: Valdas Ivanauskas ( Austria Wien) 1991: Valdas Ivanauskas ( Austria Wien) 1992: Valdemaras Martinkėnas ( Dynamo Kiev) 1993: Valdas Ivanauskas ( Hamburger SV) 1994: Valdas Ivanauskas ( Hamburger SV) 1995: Gintaras Staučė ( Karşıyaka SK) 1996: Gintaras Staučė ( Sarıyer GK) 1997: Edgaras Jankauskas ( Club Brugge) 1998: Edgaras Jankauskas ( Club Brugge) 1999: Saulius Mikalajūnas ( Uralan Elista) 2000: Edgaras Jankauskas ( Real Sociedad) 2001: Edgaras Jankauskas ( Real Sociedad) 2002: Raimondas Žutautas ( Maccabi Haifa FC) 2003: Robertas Poškus ( Krylya Sovetov Samara) 2004: Edgaras Jankauskas ( OGC Nice) 2005: Deividas Šemberas ( PFC CSKA Moscow) 2006: Tomas Danilevičius ( AS Livorno Calcio) 2007: Tomas Danilevičius ( Bologna FC 1909) 2008: Marius Stankevičius ( UC Sampdoria) 2009: Marius Stankevičius ( UC Sampdoria) 2010: Darvydas Šernas ( Widzew Łódź) 2011: Žydrūnas Karčemarskas ( Gaziantepspor) 2012: Žydrūnas Karčemarskas ( Gaziantepspor) 2013: Mindaugas Kalonas ( Baku FC) 2014: Giedrius Arlauskis ( Steaua București) 2015: Lukas Spalvis ( Aalborg BK) 2016: Fiodor Černych ( Jagiellonia Białystok) External links uefa.com\n",
      "Attempt # 4 - page_id:  8181732\n",
      "For the AMC AMX of 1978, see AMC Concord. For 1979-1980, see AMC Spirit. The AMC AMX is a two-seat GT-style sports car that was produced by American Motors Corporation for the 1968 through 1970 model years. The AMX was also classified as a muscle car, but \"unique among other American cars at the time due its short wheelbase\". The AMX was also the only American-built steel-bodied two-seater of its time, the first since the 1955-1957 Ford Thunderbird. To a degree, the AMX was a competitor with Americas only other two-seater of the era, the Chevrolet Corvette for substantially less money. With a one-inch (2.5 cm) shorter wheelbase than Chevrolets two-seater, the AMX was often seen by the press as a \"Corvette competitor\" Fitted with the optional high-compression medium block 390 cu in (6.4 L) AMC V8 engine, the AMX offered top-notch performance at an affordable price. In spite of this value and enthusiastic initial reception by automotive media and enthusiasts, sales never thrived. However, the automakers larger objectives to refocus AMCs image on performance and to bring younger customers into its dealer showrooms was achieved. After three model years, the two-seat version was discontinued, and the AMXs now signature badging was transferred to a high-performance version of its four-seat sibling, the Javelin, from 1971-1974. American Motors capitalized the respected reputation of the original AMXs by reviving the model designation for performance-equipped coupe versions of the compact Hornet in 1977, Concord in 1978, and the subcompact Spirit in 1979 and 1980. Origin of the AMX The AMX name originates from the \"American Motors eXperimental\" code used on a concept vehicle and then on two prototypes shown on the companys \"Project IV\" automobile show tour in 1966. One was a fiberglass two-seat \"AMX\", and the other was a four-seat \"AMX II\". Both of these radically styled offerings reflected the companys strategy to shed its \"economy car\" image and appeal to a more youthful, performance-oriented market. The original AMX full-scale models were developed in 1965 by AMCs advanced styling studios under the direction of Charles Mashigan. The two-seat AMX was \"big hit on the auto show circuit in 1966\" and featured a rumble seat that opened out from the rear decklid for extra passengers called a \"Ramble\" seat. AMC executives saw the opportunity to change the consumers perception of the automaker from Romneys economy car image, to the realities of the new marketplace interested in sporty, performance oriented vehicles. Robert B. Evans requested a car like the AMX to be put into production quickly. Two simultaneous development programs emerged for a production car: one for a modified Javelin and another for a completely new car bodied in fiberglass. The first approach was selected allowing AMC to use its existing technology and unibody manufacturing expertise to make fairly inexpensive modifications to the Javelin approximating the prototypes styling and proportions. The automaker could turn out steel bodies in large numbers, so it rejected developing plastic (or fiberglass) bodies because those are intended only for low-production models. The first fully operational unit debuted as part of AMCs AMX project in 1966. The once-\"frumpy\" automaker jumped on the \"pony car bandwagon\" with its \"attractive Javelin\" and soon introduced the \"unique\" AMX featuring a design where \"hoods didnt come any longer, nor decks any shorter\". Vic Raviolo, previously responsible for the Lincolns that raced in the Carrera Panamericana during the 1950s was involved with engineering AMCs new sports-car-type coupe. The AMX was the first steel-bodied, two-seat American performance car since the 1957 Thunderbird, Fords original two-seater having long since evolved into a four-seat personal luxury car. The AMX was also the only mass-produced, domestic two-seater to share the market with Chevrolet’s Corvette since the 1957 Thunderbird. With a short 97 in (2,464 mm) wheelbase, the AMXs direct competition was the one-inch longer (98 inches (2,489 mm) Chevrolet Corvette. The AMXs manufacturers suggested retail price (MSRP) was US$3,245 (US$22,349 in 2017 dollars ), nearly 25% below and over $1,000 less than the Corvettes price tag. The AMX was introduced to the press at the Daytona International Speedway on 15 February 1968; just over four months after the Javelin went on sale. In the demonstrations on the race track, the new AMXs ran at speeds up to 130 mph (209 km h). American Motors group vice president, Vic Raviolo, described the AMX as \"the Walter Mitty Ferrari.\" The AMX was designed to \"appeal to both muscle car and sports car enthusiasts, two camps that rarely acknowledged each others existences.\" The problem was the \"tire-melting\" acceleration of the two-seater made it \"a quick car that handled like a sports car, confusing the buying public.\" Automotive journalist Tom McCahill summed up, \"the AMX is the hottest thing to ever come out of Wisconsin and ... you can whip through corners and real hard bends better than with many out-and-out sports cars.\" Record-breaking In January 1968, two specially-prepared AMXs set 106 world speed and endurance records at Goodyears track in Texas driven by world land speed record holder Craig Breedlove, his wife Lee, and Ron Dykes. As a way to promote the new car, AMCs Performance activities manager, Carl Chakmakian, asked Breedlove to put the AMX through its paces before it was even available for sale. Breedloves \"Spirit of America\" crew and Traco Engineering had six weeks to prepare the cars before they were to be displayed at the Chicago Auto Show in February. The AMC V8 engines, such as the 290 cu in (4.8 L) engine in one car was bored out to 304 cu in (5.0 L) and the 390 cu in (6.4 L) in the other to 397 cu in (6.5 L). The shop installed exhaust headers, eight-quart oil pans, oil coolers, hi-rise intake manifolds, racing camshafts with solid lifters and stronger springs, and larger carburetors. The cars had engine and rear-end oil coolers, and 37 US gal (140 L; 31 imp gal) cell-type safety fuel tanks. Engine components were X-rayed and Magnafluxed to check for cracks, as were chassis components. Chassis preparation included heavy-duty front and rear springs (part of the factorys optional handling package), rear spring traction control arms, heavy-duty shock absorbers and a \"panhard\" type track bar in the rear to eliminate side sway. Stock wheels and tires were replaced by wide magnesium racing wheels and Goodyear racing tires. The cars were aerodynamically modified: the front ends were lowered, the hoods were slanted down and spoilers were installed below the front bumpers. The car interiors had structure-stiffening roll cages for driver protection, a stock bucket seat modified for additional support, and supplementary engine-monitoring instruments. Breedlove also took the AMX to Bonneville reaching 189 mph (304 km h) in a United States Auto Club (USAC) sanctioned run, as well as an unofficial run of over 200 mph (322 km h). Industry firsts The AMX was not only sporty and attractive, but it introduced many industry firsts. The American Society of Automotive Engineers named the AMX as the \"best engineered car of the year\" in 1969 and 1970. For its first year recognition, the reasons cited included the car’s dashboard, which was injection-molded in one piece \"for safety purposes, an industry first.\" The AMXs new 390 engine was developed to have a large displacement within its minimal external dimensions and moderate weight, while the use of common components and machining with AMCs 290 and 343 engines assured manufacturing economy. The 1968 models also included an innovative fiberglass safety padding, a \"plastic\" on the inside of the windshield posts that was first used on the AMC Javelins. For the following years award, the citation included the 1970 AMXs (and Javelins) being the first production cars to use windshields that were safer, thinner, and lighter than ordinary laminated glass. Developed by Corning, the glass featured a chemically hardened layer designed to give under impact and crumble into small granules to reduce injuries. The inner layer has \"stress raisers that will cause it to break before excessively high concussion forces can be developed in the occupants skull.\" American Motors also incorporated new designs for windshield sealing for the 1970 models, and developed a systems solutions process that began in the styling studio to insure maximum efficiency. 1968 American Motors promoted the mid-model year launch of the AMX to automotive journalists at Daytona to emphasize its sports car performance, as well as with a marketing agreement with Playboy Enterprises. The AMX was introduced to the public on 24 February 1968, five months after the Javelin and other 1968 AMC cars. It was promoted as \"the only American sports car that costs less than $3500\". American Motors advertisements also showed \"a helmeted race driver revving up at the starting line in one of AMCs sporty AMX models, which it describes as ready to do 125 miles an hour.\" The two-seat AMX was \"meant for a small, well-defined market niche, and it pulled in young people into AMC dealer showrooms in never before seen numbers\". Numerous road tests described the new AMX as a \"handsome two-seater with American-style acceleration and European-style handling\". Journalists gave it a real run workout on all kinds of terrain and wrote \"that the AMX is one of the best-looking cars — if not the best-looking car — made in the U.S.A.\" All AMXs came with four-barrel carbureted small block AMC V8 engines in several versions: 290 cu in (4.8 L) (225 hp (168 kW), N-code), 343 cu in (5.6 L) (290 hp (220 kW), T-code), as well as the 390 cu in (6.4 L) \"AMX\" featuring 315 hp (235 kW) with 425 pound force-feet (576 N·m) of torque (X-code). All derived from the same external sized block. However, the three engines differed vastly internally, with the smallest engine having small intake and exhaust valves, thin block webbing, and a cast nodular iron crankshaft; the 343 used larger valves with a thicker block webbing; and the 390 moved up to a forged steel crankshaft and connecting rods, as well as larger rod bearings, 2.250 in (57.15 mm) compared to 2.090 in (53.09 mm) in the smaller two versions. A BorgWarner T-10 four-speed manual transmission was standard, as were special traction bars, dual exhaust system, and fatter tires for better traction. A \"Shift-Command\" three-speed automatic transmission with the capability of manual shifting (BorgWarner model M-11B or M-12) was optional together with a floor console mounted shifter. A popular \"Go-Package\" option came with either the four-barrel 343 or 390 engine, and included power assisted front disk brakes, \"Twin-Grip\" differential, E70x14 red-stripe performance tires on \"Magnum 500\" styled-steel wheels, heavy-duty suspension with thicker sway-bars, heavy-duty cooling, and other performance enhancements. A wide range of specialized performance parts were also available through AMC dealers for installation on customers cars. These were known as \"Group 19\" parts because of the way AMC organized its parts books. Breedlove AMX According to several sources, \"Breedlove Replica\" cars to commemorate the speed and endurance records were offered by AMC. The Standard Catalog of American Muscle Cars 1960-1972 describes an estimated 50 \"Breedlove\" AMXs were sold featuring the red, white, and blue paint scheme along with the standard 4-barrel 290 cu in (4.8 L) V8 with four-speed manual transmission. However, AMC historians, argues there was no \"factory literature, order sheets, advertising, photographs, or anything else to properly document any factory 1968 or 1969 Breedlove Replica AMXs.\" According to historians a new car that was ordered by a dealer in Canada could not have been painted at the factory, but rather outsourced to local Kenosha body shops to perform the final painting. Hertz rent-a-racer In the late-1960s, The Hertz Corporation offered \"rent-a-racer\" program in selected locations that included cars such as Corvettes, Jaguar XK-Es, Shelby Mustangs, and AMXs. 1969 The AMXs full second model year saw only slight changes, except for a $52 increase in its base price. The five-spoke Magnum 500 steel road wheels were no longer chrome plated, but now came with a stainless steel trim ring. The racing stripes were now available in five colors. The interior featured a revised instrumentation with the 0–8000 rpm tachometer moved to match the speedometer that was now calibrated to 140 mph (230 km h). Interior door panels were revised, carpeting was upgraded, new leather upholstery was optional, and the gas pedal became suspended. Later production cars received a hood over the instruments in front of the driver. Trunk capacity was 9.7 cubic feet (275 l). Starting January 1969, all manual transmission AMXs came with a Hurst floor shifter. The center console-mounted three-speed \"Shift-Command\" automatic remained optional with \"1\", \"2\", and \"D\" forward settings. The \"D\" mode was fully automatic, but the driver could shift manually through all three gears by starting out in the \"1\" setting for first-gear with no upshift, and the \"2\" setting for second-gear with no upshift. A “Big Bad” paint option for $34 became available starting in mid-1969. The neon brilliant blue (BBB), orange (BBO), and green (BBG) exteriors included color-matched front and rear bumpers, as well as a special slim bright lower grille moulding for the front bumper and two vertical rubber-faced painted bumper guards for the rear. The factory-painted 1969 AMXs were 195 in BBB, 285 in BBO, and 283 in BBG. Popular Mechanics wrote that the 1969 \"AMX preserves the status quo this year, being virtually unchanged, remains an absolute delight to drive.\" California 500 A specially equipped version was sold by West Coast AMC dealers in 1969. The cars came with several options that included \"Trendsetter Sidewinder\" sidepipes and brass plaques on the hood blisters. Super Stock AMX AMC also introduced the Super Stock AMX. To maximize quarter-mile performance, the 390 engine was equipped with twin Holley carburetors and 12.3:1 compression-ratio cylinder heads, plus aftermarket Doug’s headers and exhaust system, and the tires were drag slicks. Hurst Performance carried out several additional modifications. American Motors rated the car at 340 hp (250 kW), but the National Hot Rod Association ultimately rated it at 420 horsepower (310 kW) and shuffled it among various competition classes: SS G, SS D, and SS C. Its best recorded quarter-mile was 10.73 seconds at 128 mph (206 km h). The Super Stock AMX was meant for the race track and lacked comfort equipment such as a heater. The car could be ordered all white, or in the vertical bands of red, white, and blue that distinguished numerous AMC competition cars of the day. Base price was $5,994, some $1,900 more than a fully loaded regular 1969 AMX. There was no factory warranty. Playmate AMX Playboy magazines 1968 Playmate of the Year, Angela Dorian, was awarded a specially painted \"Playmate Pink\" 1968 AMX. It was powered by the base 290 V8 with automatic transmission, air conditioning, tilt wheel, AM 8-track radio and optional rear bumper guards. Aside from the unique color, it differed from other AMXs with its dashboard number plate containing Dorians measurements, making her car AMX 36-24-35. The car, currently owned by Mark Melvin who purchased it from Dorian in 2010, was featured in an episode of Jay Lenos Garage. Some sources describe other AMXs to have been painted Playmate Pink at the factory. AMC’s marketing vice-president, Bill McNealy, who handed over the keys to Angela Dorian’s car mentioned that “a number of them\" were finished in pink. In late 1968, a Playmate Pink AMX was special-ordered by a dealership in rural Potosi, Missouri. This 1969 model year cars door tag indicates a \"00\" paint code (meaning a special-order color) and it has a 390 V8 with automatic transmission, as well as the performance \"GO\" Package, air conditioning, and leather seats. Pikes Peak cars The Pikes Peak International Hill Climb used 1969 AMXs as pace cars for the hillclimb race to the summit of Pikes Peak that was held on 29 June 1969 in Colorado. The AMX Pace and Courtesy cars were used by racers (including Bobby Unser) to practice the week prior to the race up the mountain. There were 12 (10 according to some sources) pace courtesy AMXs, and all were equipped with the \"390 Go-Pac\" option and finished in \"Frost White\" with red stripes and red interiors. A number of AMC and Jeep vehicles have participated in the annual race, winning class titles and setting records, but the only two-seat AMX that was officially raced in the hillclimb was a 1969 model piloted by Larry G. Mitchell in the 1987 \"Vintage\" class. AMX-R The original AMXs “Ramble” seat idea was considered for possible production. A working prototype was built in 1968 from a regular AMX by James Jeffords, a designer-customizer, and was named the AMX-R. Jeffords was also head of the Javelin Trans Am Racing Team for AMC. Together with industrial designer Brooks Stevens, they decided to also \"plush up\" the interior, add custom paint treatment and hood with Jeffordss name in badge form, as well as a modified suspension as part of their plan to offer an optional Ramble seat for 500 production cars. The first prototype was prepared by Dave Puhl’s House of Kustoms in Palatine, Illinois. However, numerous problems prevented serial production, including safety and product liability concerns, AMCs refusal to sell him the cars to modify, as well as the negative reaction from Ralph Nader to the exposed exterior seating idea. The AMX-Rs special blacked-out hood treatment would later to be offered as \"shadow mask\" option on 1970 AMX models. 1970 American Motors 1970 AMX advertising headlined, \"We made the AMX look tougher this year because its tougher this year\". They were mildly facelifted resembling the first two model years, but the changes were different enough to be a separate design for 1970. Featured was a new front end design with a longer hood that had a “power blister” with two large openings. These were a functional cold ram-air induction system with the popular \"Go Package\" available with the 360 and 390 engines. The new grille was flush and full-width incorporating the headlamps. The revised rear end also featured full-width taillamps and a single center mounted backup light. Side marker lights were now shared with several other AMC models. Riding on the same wheelbase 97-inch (2,464 mm) as before, the changes increased the AMXs overall body length by about two inches (51 millimeters) to 179 in (4,547 mm). American Motors also changed the AMXs engine lineup for 1970 with the introduction of a new 360 cu in (5.9 L) four-barrel (290 hp (220 kW), P-code) to replace the 343 V8. The smallest 290 was dropped and AMC could claim 65 more base horsepower than the AMXs had previously. The 390 V8 engine continued, but upgraded to new heads with 51 cc combustion chambers that increased power to 325 hp (242 kW). The code remained \"X\" for the engine on the vehicle identification number (VIN). The \"Go package\" was available with the 360 engine (including power front disc brakes, F70x14 raised white letter tires, handling package, and the ram-air induction system) for $298.85, or including the 390 engine for $383.90. Also new, the double-wishbone front suspension had ball joints, upper and lower control arms, coil springs and shock absorbers above the upper control arms; as well as trailing struts on the lower control arms. The \"Magnum 500\" road wheels were now standard, but the new \"Machine\" 15x7 inch slot-styled wheels were optional. The interiors of the AMX were also redesigned. The broad wood-grained dashboard, center console, and two-spoke \"Rim Blow\" steering wheel were new. Tall bucket seats now featured a \"clamshell\" design integrating the headrests. Leather upholstery was $34 extra. The exterior rear view mirror featured a new design and in some cases matched the cars body color. The three \"Big Bad\" exterior paints continued to be optional on the 1970 AMXs, but they now came with regular chrome bumpers. A new \"shadow mask\" exterior finish applied over any available AMX color was a $52 option, which included a satin black-painted hood, engine compartment, front fender tops, and side window surrounds offset by thin silver striping. The optional \"C-stripe\" was $32. The manufacturers suggested retail price (MSRP) for the base model was US$3,395 (US$20,937 in 2017 dollars) as AMC promoted the 1970 AMX as, \"A sports car for the price of a sporty car.\" Motor Trend summed up a road test of a 1970 AMX with the 390 engine as \"one of better constructed cars around.\" Described as “the best version yet of this blend of muscle car and sports car”, the 1970 model was also the last “true AMX”. Performance figures Original road test of a 390 AMX by Car and Driver (1968) 0 to 60 mph = 6.6 seconds 0-100 mph = 16.3 seconds Dragstrip quarter-mile acceleration = 14.8 seconds @ 95 mph (153 km h) Top speed = 122 mph (196 km h) Original road test of a 390 AMX by Motor Trend (December 1969) 0 to 60 mph = 6.56 seconds Dragstrip quarter-mile acceleration = 14.68 seconds @ 92 mph (148 km h) In 1969, the TV show Car and Track posted the following times with an AMX 390 cu in (6.4 L) running a standard 4-barrel carburetor and 10.2:1 compression ratio: 0 to 60 mph acceleration = 6.5 seconds Dragstrip quarter-mile acceleration = 14.1 seconds Racing The AMC AMX, while not a Corvette, was a high-performance car with few equals. The cars were regular performers on dragstrips around the country. Drivers included Shirley Shahan, better known as the \"Drag-On Lady\", and Lou Downy. National Hot Rod Association (NHRA) champion Wally Booth raced AMXs in both the Super Stock and the Pro Stock classes. Herman Lewis, often described \"as the Godfather of AMC Racing ... won 200 events in his hellacious red, white, and blue AMX.\" The 1968 and 1969 AMXs with AMCs 390 cu in (6.4 L) engines compete in contemporary Nostalgia Super Stock drag racing. Owners have also modified AMXs to compete in modern Pro Touring car racing. The Sports Car Club of America (SCCA) classed the AMX in B Production for amateur competition, the same class as the Shelby GT350. An AMX scored second place in the 1969 SCCA national championship. Dwight Knupp drove his AMX just 1 minute and 14 seconds behind a Corvettes winning average of 102.385 mph (165 km h) on 30 November 1969, at the Daytona International Speedway with 16 cars in the B production class, and placed sixth overall out of the total of 28 A and B class cars competing in the race. The two-seat AMX was never eligible for SCCA Trans-Am competition. A 1969 AMX was entered in the 1971 and 1972 Cannonball Baker Sea-To-Shining-Sea Memorial Trophy Dash, an unofficial automobile race from New York City and Darien, CT, on the US Atlantic (east) coast, to Redondo Beach, a Los Angeles suburb on the Pacific (west) coast. A team of enthusiastic brothers, Tom and Ed Bruerton, finished the 1971 competition in fifth place. They drove 2,897 miles (4,662 km) in 37 hours and 48 minutes at an average of 77.3 mph (124 km h), with no speeding tickets. Their AMX already had 90,000 miles (144,841 km) on the odometer and the brothers had previously taken it on numerous endurance rides, including \"a rocky ride the entire length of the Baja California Peninsula.\" They again entered \"their battlescarred AMX one more time\" in the 1972 run. The brothers finished in eighth place, making the coast-to-coast outlaw race in 39 hours and 42 minutes at an average of 72.3 mph (116 km h). Production The two-seat AMX was built for three model years following its debut as a mid-year model on February 15, 1968. The first 1968 model year cars were scheduled to appear in dealer showrooms on March 19, 1968. AMC AMX model year production totals in the U.S., by engine and transmission: In 1969, American Motors showed the next generation AMX 2 concept car in the automobile show circuit. As the two-seater AMX production ceased in 1970, AMC was developing a sophisticated European-engineered alternative, the AMX 3 for 1971 introduction. However, overall economic conditions changed with spiraling inflation pushing sales of smaller cars along with the insurance companies decision to penalize high-powered automobiles resulting in decreasing the sports-type car market segment, and the AMX was made into a high-performance model of the 4-seat Javelin starting in 1971. Assembly in Australia A total of 24 right hand drive 1969 model year AMXs were hand assembled under license in Australia by Australian Motor Industries (AMI) between August, 1969, and July, 1970. They used the name Rambler AMX as AMI produced the Rambler range of cars since October 1960. Complete knock down (CKD) kits were shipped from Kenosha, Wisconsin to AMIs facilities at Port Melbourne in Victoria. Differences to the RHD Australian AMXs (compared to the U.S. models) included different outside rear-view mirrors, and black vinyl trim inside the \"AMX\" circle logo on the C-pillars, As with Rambler sedans built in right hand drive, windscreen wipers were not reversed, remaining LHD pattern, but the power brake booster and heater on the firewall were swapped over. Although the power steering pump remained in its usual left location, the remainder of the steering components were on the right side of the car. The cars came with 343 cu in (5.6 L) and automatic transmission, power steering, power disk brakes, \"twin-grip\" rear axle, and other items that were optional on the U.S. models. All of the Australian AMX interiors were finished in black and featured unique seats, door panels, and a fiberglass RHD dashboard with a wood-grained instrument cluster in front of the driver. The Australian AMXs came with a large high level of equipment and were promoted as \"super\" personal luxury cars. Concept and show cars AMX 2 Vince Gardner, an outside consultant, designed the fiberglass-bodied AMX II concept car in 1966 as part of AMCs \"Project IV\" exhibit. Corporation president Roy Abernethy sanctioned the Turin coachbuilder Vignale to construct an operational car in steel. Delivered in 78 days and known as the \"AMX Vignale\", it was first displayed at the 1966 New York International Auto Show. AMX GT Developed for the 1968 auto show circuit, the AMX GT is a concept car based on a shortened and \"chopped\" Javelin with a Kammback rear end. The AMX GT show car provided several design clues to future production models and performance options. AMX-400 In the late-1960s, George Barris made bolt-on customizing kits for the AMX that were marketed through AMC dealers. He also performed a radical custom treatment on a 1969 AMX. The car was built for the second Banacek TV season episode. The car was lowered and its body was heavily modified. Its roof was cut down almost 5 in (127 mm) and the car was lengthened by 18 in (457 mm). Featuring a sculpted body with louvered accents, it became known as the AMX-400. The car featured a taillight system that glowed green during acceleration, amber during deceleration, and red during braking. AMX 3 A third-generation AMX concept car, the AMX 3, debuted at the 1970 Chicago Auto Show. Engine-less and fashioned in fiberglass, the original AMC 3 prototype was a show car only. American Motors placed an order for 30 operational cars. The AMX 3 body mold was sent to Italian GT maker Giotto Bizzarrini, whose Turin facility hand made drivable mid-engined, steel bodied cars. Built on a 105.3-inch (2,675 mm) wheelbase, the Bizzarrini prototypes used the AMC 390 cu in (6.4 L) V8 and an Italian OTO Melara four-speed transaxle. Road testing was done by BMW, which declared the AMX 3s chassis one of the stiffest and most neutral handling they had ever tested. The steel Italian cars differed from the original AMC design in having fewer but functional rear decklid louvers, louvered hoods, and, in some cases, hood scoops to direct fresh air into the heating-A C system. Five completed cars were produced before the US$2,000,000 program was cancelled. Escalating costs and pending bumper regulations put a stop to the mid-engined AMX 3. The remaining extra parts were used by erstwhile Bizzarini collaborator Salvatore Diomante to assemble a sixth car. 1971 Teague AMX Sales of the two-seat AMX were not up to the numbers that American Motors management wanted, but AMC’s vice president for styling, Richard A. Teague, wanted to continue the sports model. American Motors’ Advanced Design Studio made design proposals for a 1971 AMX and Teague requested—and received permission—to produce a fully working concept car. Starting with a Frost White 1968 AMX coupe as the development mule, Teague updated its front end to the grille and swooping front fenders of what was incorporated into the production 1971 Javelin. The concept car also featured the interior to what was to become AMC’s characteristic high-backed bucket seats and corduroy upholstery introduced in 1970. The concept car was repainted light metallic blue with red striping to match the interior. A short-wheelbase, two-seat 1971 AMX was not approved for production by the automaker, but Teague used this car as his daily driver. Collectibility Automotive historian and author, Richard M. Langworth noted that the AMX has \"all the right sports-car stuff\" and that the \"little machine that can only go up in value over the long haul.\" Prior to 2004 the AMX had been under-appreciated from an investment standpoint, according to CNN. In 2004, there was considerable variation between the values of two-seat AMXs and four-seat Javelin AMXs. Craig Fitzgerald mentioned \"the satisfaction in owning a car that you dont see every single day, or on the cover of every single magazine,\" and favored the two-seater, on the grounds of its rarity; but he noted that parts for either car were extremely expensive. In 2006, the editors of Hemmings Muscle Machines magazine said that AMCs had \"experienced notable value increases over the last few years--especially AMXs...\" The book Keith Martins Guide to Car Collecting, in collaboration with the editors of the monthly Sports Car Market, lists the 1970 AMX as one of the picks under $40,000 among \"Nine Muscle Car Sleepers\". Unique versions, such as the California 500 Specials and the 52 Hurst-modified SS AMX drag race cars are perhaps the most highly sought after by collectors. In 2006, a California 500 AMX sold for $54,000 at the Barrett-Jackson auction in Scottsdale, Arizona, while a regular AMX went for over $55,000 at the Mecum collector auction in Belvidere, Illinois. In 2007, Hemmings wrote that only about 39 of the original SS AMX turn-key race cars may have survived. By 2007, the AMX was \"among the most highly sought AMC cars\" and \"really taking off in the muscle-car market\". Also in 2007, Hemmings said that the two-seater AMX had \"a strong following among old car hobbyists and collectors of historic vehicles and nearly every one of the 19,134 built...remains in circulation and in demand, ensuring a good future for the first-generation AMX as a collectible muscle car.\" The 2007 book Classic Cars states that AMCs small and powerful AMX \"had tire-burning speed\" and \"all have become collectors items.\" Noting the increasing values of the 1968-1970 AMXs, Hemmings listed them among the \"21 hottest cars\" that enthusiasts wanted in 2007 \"and will want tomorrow.\" In 2008, Hemmings said that buyers had \"only recently discovered the AMX; theyre now snapping them up left and right. Prices ... are on the rise, though they still represent a relative bargain compared to many more common muscle machines.\" In 2010, Hemmings Classic Car included the two-seat AMXs in their list of 32 best cars to restore in terms of economic sense after factoring purchase price, parts availability, as well as restored value and desirability. Although low in production, the AMX shared parts and components with other AMC models. There are many active AMC car clubs for these cars. Parts, including reproduction components, are available. However, \"AMC did not build cars in the vast numbers the Big Three did back in the day; therefore, there are fewer to restore and not as many parts to go around.\" As of 2010, Hemmings Classic Car wrote that the AMXs are \"pretty basic\" so they are not hard to restore, and that \"reproduction parts are available\" and continues to grow with many mechanical parts interchanging with other cars. More valuable according to automotive historian and author, James C. Mays, is the \"wow factor\". His book, The Savvy Guide to Buying Collector Cars at Auction, explains this important and measurable pleasure to an owner, whether their car is driven or sits in a climate-controlled garage, such as a red 1969 AMX that attracts more attention than the more prestigious Ferraris and Lamborghinis. The 100th issue of Hemmings Classic Car listed the \"Top 100 American collector cars ever made\" as selected by the editors of Hemmings Motor News on the basis of \"the most popular models among both enthusiasts and collectors\" and included the 1968-1969 AMXs for both rarity and high interest, as well as \"they boast sporting lines, traditional long-hood short-deck proportions, and a smattering of performance options to add spice.\" Old Cars Weekly describes the AMX as an \"appealing little package for adrenaline junkies and guys ... who have an appetite for something a little offbeat and different ... a car that famed automotive scribe Tom McCahill once described as harrier than a Borneo gorilla.\" Automotive journalist Patric George noted the AMC AMX is \"great vintage American iron\" and with only \"two seats, making it more of a sports car than a lot of other muscle cars.\" Number matching American Motors did not provide identification on the engine block, known as VIN stamping, as some other car manufacturers had been doing at that time. Other than the actual displacement, there was no way to associate a vehicle with the original \"born with\" engine. Since this was common practice at the GM and Chrysler plants it is much easier to verify that the exact engine in the car is actually the factory original unit. Each AMC vehicle was inspected to confirm that the engine displacement (identified by numbers cast on the block under the engine mounts) corresponded to its corresponding engine code in the vehicle identification number (VIN). A tag screwed to the valve cover provides an engines build date, and that date code always preceded a specific cars production sequence. However, there is no engine \"numbers matching\" test for AMXs or any other AMC automobiles. As a marketing move for the AMX, AMC affixed a small plate with a number to the center of the dash (1968-1969) or to the glovebox door (1970). These are random numbers. They do not coincide with any other identifying number such as the cars VIN code, dealer or zone order, production sequence, nor build date. For example, the numbers on the 1970 models ranged from 014469 to 18584. Scale models A variety of scale models of the AMX are available including promotional 1 25-scale model manufactured under license from AMC by Jo-Han in factory colors. Hot Wheels offered a 1969 AMX custom in 1:64 scale, and in 1971 issued the AMX 2 show car model. Newer models in 1:18 scale diecast were issued, including the Playboy Pink version in the \"Best of the Best\" series, as well as the modified \"Drag-On Lady\" race car. According to the editors of Die Cast X Magazine, \"muscle cars are the largest, most popular category in die-cast\" collectors, and they included the AMC AMX among the 34 models that represent \"the best and most important from the genre ... performance and style that are the hallmarks of the high point of American automotive history.\" See also AMC Javelin AMX: 1971–1974 AMC Hornet AMX: 1977 AMC Concord AMX: 1978 AMC Spirit AMX: 1979–1980 Footnotes External links AMX390.com AMX-perience.com JavelinAMX.com AMC Rambler Club—Club for 1958 - 1969 AMCs American Motors Owners—Club for 1958 - 1987 AMCs\n",
      "Attempt # 5 - page_id:  630169\n"
     ]
    }
   ],
   "source": [
    "counter = 0\n",
    "for page_id in Nearest_Neighbors_pages:\n",
    "    wiki_response = wiki.query_page(str(page_id))\n",
    "    print wiki_response['text']\n",
    "    counter += 1 # for test purposes only, just to make sure I tried 5 times to get text\n",
    "    print \"Attempt #\", counter, \"-\", \"page_id: \", page_id"
   ]
  },
  {
   "cell_type": "code",
   "execution_count": 165,
   "metadata": {
    "collapsed": false
   },
   "outputs": [
    {
     "data": {
      "text/plain": [
       "1702260"
      ]
     },
     "execution_count": 165,
     "metadata": {},
     "output_type": "execute_result"
    }
   ],
   "source": [
    "# Internal Note for myself: for future reference, instead of the lookup_table and vmask,\n",
    "# a simpler option to access the page_ids is to do:\n",
    "# page_vectors_df.index[1247] <- The Nearest_Neighbors_result[1] returned an array of index\n",
    "# positions (1247, 2185, etc.). This means that we're interested in the page_id at the\n",
    "# 1247th and 2185th index. Using the page_vectors_df, which has page_ids as it's index,\n",
    "# we can call page_vectors_df.index to get an array of all the page_ids in order, and then\n",
    "# use the 1247 to get the 1247th entry in the page_vectors_df.index, which will return a\n",
    "# page_id\n",
    "page_vectors_df.index[1247]"
   ]
  },
  {
   "cell_type": "code",
   "execution_count": null,
   "metadata": {
    "collapsed": true
   },
   "outputs": [],
   "source": []
  }
 ],
 "metadata": {
  "anaconda-cloud": {},
  "kernelspec": {
   "display_name": "Python [default]",
   "language": "python",
   "name": "python2"
  },
  "language_info": {
   "codemirror_mode": {
    "name": "ipython",
    "version": 2
   },
   "file_extension": ".py",
   "mimetype": "text/x-python",
   "name": "python",
   "nbconvert_exporter": "python",
   "pygments_lexer": "ipython2",
   "version": "2.7.12"
  }
 },
 "nbformat": 4,
 "nbformat_minor": 1
}
